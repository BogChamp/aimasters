{
 "cells": [
  {
   "cell_type": "markdown",
   "metadata": {
    "id": "uzJM7pF7tvpe"
   },
   "source": [
    "# Домашнее задание 6 (17 pts)"
   ]
  },
  {
   "cell_type": "markdown",
   "metadata": {
    "id": "ah_XVg9itlP7"
   },
   "source": [
    "## Задача 1 (5 pts)\n",
    "\n",
    "Получите аналитические выражения для проекций на множества\n",
    "\n",
    "1) (2 pts) Лоренцев конус $\\{ (x, t) \\in \\mathbb{R}^n \\times \\mathbb{R}_+ \\mid \\|x\\|_2 \\leq t\\}$\n",
    "\n",
    "2) (3 pts) множество симметричных положительно полуопределённых матриц, при условии, что проецируемая матрица симметрична\n",
    "\n",
    "\n",
    "Оцените сложность вычисления проекций для каждого множества."
   ]
  },
  {
   "cell_type": "markdown",
   "metadata": {
    "id": "d-C6HT0SSqbM"
   },
   "source": [
    "1)Задача поиска проекции сводится к следующей выпуклой задаче:\n",
    "$$\\|x-y\\|_2^2 + (t_x - t_y)^2 \\to min\\ s.t.\\ \\|x\\|_2^2 \\leq t_x^2$$\n",
    "Лагранжиан:$L(x, t_x, \\mu) = \\|x-y\\|_2^2 + (t_x - t_y)^2 + \\mu(\\|x\\|_2^2 - t_x^2)$\n",
    "$$\\nabla_x L = 2(x - y) + 2\\mu x = 0$$\n",
    "$$\\nabla_{t_x} L = 2(t_x - t_y) - 2\\mu t_x = 0$$\n",
    "$$\\mu \\geq 0$$\n",
    "$$\\mu(\\|x\\|_2^2 - t_x^2)=0$$\n",
    "Так что $x = \\frac{y}{1+\\mu}$ и $t_x = \\frac{t_y}{1-\\mu}$. Остается решить уравнение:\n",
    "$$\\mu(\\|x\\|_2^2 - t_x^2) = \\mu(\\frac{\\|y\\|_2^2}{(1+\\mu)^2} - \\frac{t_y^2}{(1-\\mu)^2})=0$$\n",
    "$$\\mu(\\frac{\\|y\\|_2}{1+\\mu} - \\frac{|t_y|}{|1-\\mu|})(\\frac{\\|y\\|_2}{1+\\mu} + \\frac{|t_y|}{|1-\\mu|})=0$$\n",
    "Мю не равно нулю, так как иначе получится, что $t_y = 0$, что не равно в общем случае. Если $t_y = 0$, то $x = y/2$ и $t_x = \\|y\\|_2/2$.\n",
    "Так как мю неотрицательно, то $\\mu + 1 > |\\mu - 1|$. Разберем $\\frac{\\|y\\|_2}{1+\\mu} - \\frac{|t_y|}{|1-\\mu|}$. Если $t_y < 0$, то $\\frac{\\|y\\|_2}{1+\\mu} + \\frac{t_y}{|1-\\mu|}$ неотрицательно. Иначе $\\frac{\\|y\\|_2}{1+\\mu} - \\frac{t_y}{|1-\\mu|} = 0 \\to \\mu=\\frac{\\|y\\|_2-t_y}{\\|y\\|_2+t_y}$, в случае если $\\|y\\|_2>t_y$, иначе вектор уже лежит в конусе. Если рассмотрим вторую скобку $\\frac{\\|y\\|_2}{1+\\mu} + \\frac{|t_y|}{|1-\\mu|}$, то тут аналогично. Если $t_y > 0$, то выражение неотрицательно, иначе $\\mu=\\frac{\\|y\\|_2-t_y}{\\|y\\|_2+t_y}$ при условии, что $\\|y\\|_2>-t_y$.\\\n",
    "Таким образом: $$x = y/(1+\\frac{\\|y\\|_2-t_y}{\\|y\\|_2+t_y}) \\to x=\\frac{\\|y\\|_2+t_y}{2\\|y\\|_2}y$$\n",
    "$$t_x = t_y/(1-\\frac{\\|y\\|_2-t_y}{\\|y\\|_2+t_y})\\to t_x = \\frac{\\|y\\|_2+t_y}{2} =  \\frac{\\|y\\|_2+t_y}{2\\|y\\|_2}\\|y\\|_2$$\n",
    "Как видно, условия выполняются даже если t_y = 0. Если для вектора y уже выполняется $\\|y\\|_2 \\leq t_y$, то проекцией на множество является сам же вектор.\n",
    "\n",
    "Что касается сложности вычисления проекции, то нам надо вычислить $\\|y\\|_2$, что делается за $O(n)$ операций умножения и сложения, ну и одно взятие корня. Затем сложить полученное выражение с t_y и поделить на $2\\|y\\|_2$. После, надо умножить финальное число на каждый компонент вектора y, что займет $O(n)$ операций. Итого сложность $O(n)$.\n",
    "\n",
    "2) Сведем задачу к выпуклой:$$\\|Y-X\\|_2 \\to \\min s.t. Y \\succeq 0$$\n",
    "Так как матрица X положительно полуопределенная и симметричная, то у нее не должно быть отрицательно определенных собственных значений. Поэтому проекцией любой симетричной матрицы на множество полуопределенных является матрица, которая получается из обнуления отрицательных диагональных элементов исходной матрицы в разложении по собственным значениям(eigenvalue decomposition). Докажем это.\\\n",
    "У симметричных матриц в сингулярном разложении в диагональной матрице находятся модули собственных значений по убыванию. Поэтому получается:\n",
    "$$\\|Y-X\\|_2 = \\sup\\limits_{\\|v\\|_2=1} v^T(Y-X)v$$\n",
    "$$\\|X\\|_2 = \\max(\\lambda_1, \\lambda_n) = \\max(v_1^TXv_1, -v_n^TXv_n) = \\max(\\sup\\limits_{\\|v\\|_2=1} v^TXv, -\\inf\\limits_{\\|v\\|_2=1} vXv)$$\n",
    "Отсюда:$$\\sup\\limits_{\\|v\\|_2=1} v^T(Y-X)v \\geq v_n^T(Y-X)v_n = v_n^TYv_n - v_n^TXv_n \\geq -\\lambda_n$$\n",
    "В последнем неравенстве использовалось свойство $\\forall x\\neq 0: x^TYx \\geq 0$ для положительно полуопределенной матрицы. Чтобы достичь этой нижней грани, возьмем матрицу $X = \\sum_i^n max(\\lambda_i, 0)v_i^Tv_i$. Она как раз и дает нижнюю оценку.\n",
    "\n",
    "Чтобы найти разложение матрицы по собственным значениям, нужно $O(n^3)$ операций(приводим например к диагональному виду с помощью метода гаусса). Поэтому сложность $O(n^3)$"
   ]
  },
  {
   "cell_type": "markdown",
   "metadata": {
    "id": "AnMvYj4ht2kr"
   },
   "source": [
    "## Задача 2 (12 pts)\n",
    "\n",
    "__1.__ Скачайте с помощью кода, приведённого ниже, набор фотографий и нарисуйте какую-нибудь из них."
   ]
  },
  {
   "cell_type": "code",
   "execution_count": 1,
   "metadata": {
    "id": "Cxu_88BCuXDo"
   },
   "outputs": [
    {
     "name": "stdout",
     "output_type": "stream",
     "text": [
      "downloading Olivetti faces from https://ndownloader.figshare.com/files/5976027 to /home/bogdan/scikit_learn_data\n",
      "Shape of data = (400, 64, 64)\n"
     ]
    },
    {
     "data": {
      "image/png": "[encoded data removed]",
      "text/plain": [
       "<Figure size 640x480 with 2 Axes>"
      ]
     },
     "metadata": {},
     "output_type": "display_data"
    }
   ],
   "source": [
    "import sklearn.datasets as skldata\n",
    "import matplotlib.pyplot as plt\n",
    "import sklearn.decomposition as skdec\n",
    "%matplotlib inline\n",
    "data = skldata.fetch_olivetti_faces()\n",
    "import numpy as np\n",
    "print(\"Shape of data = {}\".format(data[\"images\"].shape))\n",
    "index = 42\n",
    "plt.imshow(data[\"images\"][index], cmap=plt.cm.Greys)\n",
    "plt.colorbar()\n",
    "_ = plt.axis(\"off\")"
   ]
  },
  {
   "cell_type": "markdown",
   "metadata": {
    "id": "xIbHmrSfuYFD"
   },
   "source": [
    "__2.__ Одним из способов обработки изображений, например для выделения наиболее важных сегментов используется метод неотрицательной матричной факторизации ([Nonnegative matrix factorization](https://arxiv.org/pdf/1401.5226.pdf)). \n",
    "Идея в том, чтобы решить следующую задачу\n",
    "\n",
    "\\begin{align*}\n",
    "& \\min_{W, H} \\frac12 \\|X - WH\\|^2_F \\\\\n",
    "\\text{s.t. } & W \\geq 0\\\\\n",
    "& H \\geq 0,\n",
    "\\end{align*}\n",
    "\n",
    "где знак $\\geq$ означает покомпонентное сравнение. \n",
    "Также матрицы $W$ и $H$ малого ранга, то есть $W \\in \\mathbb{R}^{m \\times k}$ и $H \\in \\mathbb{R}^{k \\times n}$, где $k$ - параметр, который необходимо настраивать.\n",
    "Чем больше $k$, тем точнее приближение, но и тем дольше будет решаться задача.\n",
    "Матрица $X \\in \\mathbb{R}^{m \\times n}$, где $m$ - это число фото в нашем наборе, а $n$ - это количество пикселей в каждой картинке, то есть каждая строка матрицы $X$ - это векторизованная картинка.\n",
    "\n",
    "**Вопросы**\n",
    "\n",
    "1) (1 pts) является ли эта задача выпуклой и почему?\n",
    "\n",
    "Нет, задача не является выпуклой, так как минимизируемая функция не выпукла. Это следует из того, что у выпуклой задачи глобальный минимум, а у данной может быть несколько(достаточно изменить немного элементы матриц W и H).\n",
    "\n",
    "2) (1 pts) как можно интерпретировать факторы $W$ и $H$ и почему важна их покомпонентная неотрицательность?\n",
    "\n",
    "Факторы W и H можно интерпретировать как какие-нибудь фичи картинки. Например W может отображать какие-то части изображения, или фичи, такие как количество кругов, квадратов, в общем каких-то контуров, а матрица H - матрица важности этих признаков. В статье используется пример для фото, что W - матрица признаков изображения лица, а H -матрица важности."
   ]
  },
  {
   "cell_type": "markdown",
   "metadata": {
    "id": "dcjU8FW9ulyR"
   },
   "source": [
    "__3.__ Такую задачу можно решить если воспользоваться идеей попеременной оптимизации (alternating optimization). Идея состоит в том, чтобы на чётных итерациях обновлять параметр $W$ при фиксированном параметре $H$, а на нечётных наоборот: использовать решение для $W$ с предыдущей итерации в качестве фиксированного параметра и обновиться параметр $H$ и так далее до сходимости.\n",
    "Сначала Вам нужно инициализировать матрицы $W$ и $H$ какими-нибудь матрицами с неотрицательными элементами. От инициализации может сильно зависеть качество решения и скорость работы методов.\n",
    "\n",
    "**Задачи**\n",
    "\n",
    "1) (2 pts) реализуйте проксимальный градиентный метод и его ускоренную версию для обновления параметров задачи\n",
    "\n",
    "2) (4 pts) предложите несколько (> 2) эвристик как именно можно применять реализованные методы для решения поставленной задачи. Постарайтесь предложить максимально эффективные вараинты.\n",
    "\n",
    "Можно обнулять положительные градиенты, чтобы $-grad$ был неотрицательным, поэтому матрицы не выйдут из диапазона множества поиска.\n",
    "\n",
    "2) (2 pts) нарисуйте график сходимости по функции для каждого из предложенных подходов и убедитесь, что методы сошдлись или же изменение целевой функции пренебрежимо мало. Прокомментируйте результаты и определите какой из предложенных вами подходов оказался наиболее эффективным. Как вы думаете почему?\n",
    "\n",
    "3) (1 pts) поскольку размерность $H$ - $k \\times n$, то каждую строку $H$ можно преобразовать в картинку аналогично тому, как были собраны строки матрицы $X$. Нарисуйте 10-50 картинок полученных из строк матрицы $H$. Что Вы заметили и как это соотносится с ответами на вопрос 2) предыдущего пункта? Используйте ```plt.colorbar()``` и цветовую схему ```plt.cm.Greys``` для более чёткого отображения значений пикселей\n",
    "\n",
    "4) (1 pts) Нарисуйте матрицу $W$ с помощью функции ```plt.imshow``` или ```plt.spy```. Насколько сильно она заполнена и почему?"
   ]
  },
  {
   "cell_type": "code",
   "execution_count": null,
   "metadata": {
    "id": "dVj4g3hKvJZb"
   },
   "outputs": [],
   "source": [
    "# Место для Вашего решения"
   ]
  }
 ],
 "metadata": {
  "colab": {
   "provenance": []
  },
  "kernelspec": {
   "display_name": "Python 3 (ipykernel)",
   "language": "python",
   "name": "python3"
  },
  "language_info": {
   "codemirror_mode": {
    "name": "ipython",
    "version": 3
   },
   "file_extension": ".py",
   "mimetype": "text/x-python",
   "name": "python",
   "nbconvert_exporter": "python",
   "pygments_lexer": "ipython3",
   "version": "3.10.6"
  }
 },
 "nbformat": 4,
 "nbformat_minor": 1
}
