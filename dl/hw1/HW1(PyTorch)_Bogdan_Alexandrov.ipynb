{
  "cells": [
    {
      "cell_type": "markdown",
      "metadata": {
        "id": "IQwlunyE86kE"
      },
      "source": [
        "# Практическое задание 1. Обучение полносвязной нейронной сети."
      ]
    },
    {
      "cell_type": "code",
      "execution_count": 1,
      "metadata": {
        "id": "UyCGfNgA86kF"
      },
      "outputs": [],
      "source": [
        "import numpy as np\n",
        "import torch\n",
        "import cv2\n",
        "\n",
        "from glob import glob\n",
        "from collections import OrderedDict\n",
        "from matplotlib import pyplot as plt\n",
        "\n",
        "from torch import nn\n",
        "from torch.autograd import Function\n",
        "from torch.autograd import gradcheck\n",
        "from torch.optim import Optimizer, Adam\n",
        "from torch.utils.data import Dataset, DataLoader\n",
        "from torchvision import datasets\n",
        "from torchvision import transforms"
      ]
    },
    {
      "cell_type": "markdown",
      "metadata": {
        "id": "uFaWrLT4GkfY"
      },
      "source": [
        "## 1. Загрузка данных (0 баллов)"
      ]
    },
    {
      "cell_type": "markdown",
      "metadata": {
        "id": "R930jTYMG6nB"
      },
      "source": [
        "Если вам требуется работать с каким-нибудь набором данных (dataset), то, прежде всего, проверьте, нет ли его среди встроенных наборов данных https://pytorch.org/vision/stable/datasets.html.\n",
        "\n",
        "В текущем домашнем задании мы будем работать с набором данных FashionMNIST. Он присутствует в списке встроенных наборов данных, однако мы воспользуемся реализацией только для удобного и быстрого способа скачать наборы данных. Ниже предлагается реализовать собственный класс для считывания, обработки и упаковки данных."
      ]
    },
    {
      "cell_type": "code",
      "execution_count": 2,
      "metadata": {
        "id": "LauGpMvGF5qr"
      },
      "outputs": [
        {
          "name": "stdout",
          "output_type": "stream",
          "text": [
            "Downloading http://fashion-mnist.s3-website.eu-central-1.amazonaws.com/train-images-idx3-ubyte.gz\n",
            "Downloading http://fashion-mnist.s3-website.eu-central-1.amazonaws.com/train-images-idx3-ubyte.gz to data/FashionMNIST/raw/train-images-idx3-ubyte.gz\n"
          ]
        },
        {
          "name": "stderr",
          "output_type": "stream",
          "text": [
            "100%|██████████| 26421880/26421880 [00:04<00:00, 5652251.33it/s]\n"
          ]
        },
        {
          "name": "stdout",
          "output_type": "stream",
          "text": [
            "Extracting data/FashionMNIST/raw/train-images-idx3-ubyte.gz to data/FashionMNIST/raw\n",
            "\n",
            "Downloading http://fashion-mnist.s3-website.eu-central-1.amazonaws.com/train-labels-idx1-ubyte.gz\n",
            "Downloading http://fashion-mnist.s3-website.eu-central-1.amazonaws.com/train-labels-idx1-ubyte.gz to data/FashionMNIST/raw/train-labels-idx1-ubyte.gz\n"
          ]
        },
        {
          "name": "stderr",
          "output_type": "stream",
          "text": [
            "100%|██████████| 29515/29515 [00:00<00:00, 343446.32it/s]\n"
          ]
        },
        {
          "name": "stdout",
          "output_type": "stream",
          "text": [
            "Extracting data/FashionMNIST/raw/train-labels-idx1-ubyte.gz to data/FashionMNIST/raw\n",
            "\n",
            "Downloading http://fashion-mnist.s3-website.eu-central-1.amazonaws.com/t10k-images-idx3-ubyte.gz\n",
            "Downloading http://fashion-mnist.s3-website.eu-central-1.amazonaws.com/t10k-images-idx3-ubyte.gz to data/FashionMNIST/raw/t10k-images-idx3-ubyte.gz\n"
          ]
        },
        {
          "name": "stderr",
          "output_type": "stream",
          "text": [
            "100%|██████████| 4422102/4422102 [00:01<00:00, 3434335.41it/s]\n"
          ]
        },
        {
          "name": "stdout",
          "output_type": "stream",
          "text": [
            "Extracting data/FashionMNIST/raw/t10k-images-idx3-ubyte.gz to data/FashionMNIST/raw\n",
            "\n",
            "Downloading http://fashion-mnist.s3-website.eu-central-1.amazonaws.com/t10k-labels-idx1-ubyte.gz\n",
            "Downloading http://fashion-mnist.s3-website.eu-central-1.amazonaws.com/t10k-labels-idx1-ubyte.gz to data/FashionMNIST/raw/t10k-labels-idx1-ubyte.gz\n"
          ]
        },
        {
          "name": "stderr",
          "output_type": "stream",
          "text": [
            "100%|██████████| 5148/5148 [00:00<00:00, 16419982.50it/s]"
          ]
        },
        {
          "name": "stdout",
          "output_type": "stream",
          "text": [
            "Extracting data/FashionMNIST/raw/t10k-labels-idx1-ubyte.gz to data/FashionMNIST/raw\n",
            "\n"
          ]
        },
        {
          "name": "stderr",
          "output_type": "stream",
          "text": [
            "\n"
          ]
        }
      ],
      "source": [
        "training_data = datasets.FashionMNIST(\n",
        "    root=\"data\",\n",
        "    train=True,\n",
        "    download=True\n",
        ")\n",
        "\n",
        "test_data = datasets.FashionMNIST(\n",
        "    root=\"data\",\n",
        "    train=False,\n",
        "    download=True\n",
        ")"
      ]
    },
    {
      "cell_type": "markdown",
      "metadata": {
        "id": "RIT32OCMaLLP"
      },
      "source": [
        "Воспользуемся функцией загрузки данных из репозитория наборов данных."
      ]
    },
    {
      "cell_type": "code",
      "execution_count": 3,
      "metadata": {
        "id": "Fm_cf_hEIapm"
      },
      "outputs": [
        {
          "name": "stdout",
          "output_type": "stream",
          "text": [
            "t10k-images-idx3-ubyte\t   train-images-idx3-ubyte\n",
            "t10k-images-idx3-ubyte.gz  train-images-idx3-ubyte.gz\n",
            "t10k-labels-idx1-ubyte\t   train-labels-idx1-ubyte\n",
            "t10k-labels-idx1-ubyte.gz  train-labels-idx1-ubyte.gz\n"
          ]
        }
      ],
      "source": [
        "! ls data/FashionMNIST/raw"
      ]
    },
    {
      "cell_type": "code",
      "execution_count": 4,
      "metadata": {
        "id": "-xnY5xk1KBg2"
      },
      "outputs": [],
      "source": [
        "#https://github.com/zalandoresearch/fashion-mnist/blob/master/utils/mnist_reader.py\n",
        "\n",
        "def load_mnist(path, kind='train'):\n",
        "    import os\n",
        "    import gzip\n",
        "    import numpy as np\n",
        "\n",
        "    \"\"\"Load MNIST data from `path`\"\"\"\n",
        "    labels_path = os.path.join(path,\n",
        "                               '%s-labels-idx1-ubyte.gz'\n",
        "                               % kind)\n",
        "    images_path = os.path.join(path,\n",
        "                               '%s-images-idx3-ubyte.gz'\n",
        "                               % kind)\n",
        "\n",
        "    with gzip.open(labels_path, 'rb') as lbpath:\n",
        "        labels = np.frombuffer(lbpath.read(), dtype=np.uint8,\n",
        "                               offset=8)\n",
        "\n",
        "    with gzip.open(images_path, 'rb') as imgpath:\n",
        "        images = np.frombuffer(imgpath.read(), dtype=np.uint8,\n",
        "                               offset=16).reshape(len(labels), 784)\n",
        "\n",
        "    return images, labels"
      ]
    },
    {
      "cell_type": "markdown",
      "metadata": {
        "id": "qHIlWRV0aZnA"
      },
      "source": [
        "Для удобства PyTorch предоставляет ряд базовых классов `Dataset, DataLoader`, от которых предлагается отнаследоваться при разработке пользовательских классов. Базовый класс `Dataset` используется для загрузки и обработки данных, класс `DataLoader` используется для управления процессом загрузки данных, позволяет в многопоточном режиме загружать данные и упаковывать их.\n",
        "Эти вспомогательные классы находятся в модуле `torch.utils.data`.\n",
        "\n",
        "При наследовании от класса `torch.utils.data.Dataset` требуется переопределить метод `__len__`, который возвращает количество примеров в наборе данных, а также метод `__getitem__`, который позволяет получить доступ к примеру из набора данных по индексу."
      ]
    },
    {
      "cell_type": "markdown",
      "metadata": {
        "id": "3jf2e5cPbJV2"
      },
      "source": [
        "Реализуем класс для FasionMnist.\n",
        "\n",
        "Элементами датасета должны являться пары '(np.array, int)', массив имеет размерность `(28, 28)`, тип элемента `np.float32`."
      ]
    },
    {
      "cell_type": "code",
      "execution_count": 5,
      "metadata": {
        "id": "snTBHRTQI1bc"
      },
      "outputs": [],
      "source": [
        "import os\n",
        "\n",
        "class FashionMnist(Dataset):\n",
        "    def __init__(self, path, train=True, image_transform=None,\n",
        "                 label_transform=None):\n",
        "        if train:\n",
        "            images, labels = load_mnist(os.path.join(path,\"raw\"))\n",
        "        else:\n",
        "            images, labels = load_mnist(os.path.join(path,\"raw\"), kind=\"t10k\")\n",
        "\n",
        "        ###########################################################\n",
        "        ############# YOUR CODE HERE ##############################\n",
        "        ###########################################################\n",
        "        self.images = images\n",
        "        self.labels = labels\n",
        "        self.image_transform = image_transform\n",
        "        self.label_transform = label_transform\n",
        "\n",
        "    def __len__(self,):\n",
        "        ###########################################################\n",
        "        ############# YOUR CODE HERE ##############################\n",
        "        ###########################################################\n",
        "        length = len(self.images)\n",
        "        return length\n",
        "\n",
        "    def __getitem__(self, idx):\n",
        "        ###########################################################\n",
        "        ############# YOUR CODE HERE ##############################\n",
        "        ###########################################################\n",
        "        img = self.images[idx]\n",
        "        if self.image_transform:\n",
        "            img = self.image_transform(img)\n",
        "        label = np.asarray(self.labels[idx])\n",
        "\n",
        "        if self.label_transform:\n",
        "            label = self.label_transform(label)\n",
        "\n",
        "        return img.reshape(28, 28), label\n"
      ]
    },
    {
      "cell_type": "code",
      "execution_count": 6,
      "metadata": {
        "id": "XVGv_2zBNfpz"
      },
      "outputs": [],
      "source": [
        "test_dataset = FashionMnist(\"data/FashionMNIST\", train=False)\n",
        "train_dataset = FashionMnist(\"data/FashionMNIST\")"
      ]
    },
    {
      "cell_type": "markdown",
      "metadata": {
        "id": "JciETIfndiGR"
      },
      "source": [
        "Визуализируйте случайные элементы набора данных."
      ]
    },
    {
      "cell_type": "code",
      "execution_count": 13,
      "metadata": {
        "id": "wBky4UtmOS71"
      },
      "outputs": [
        {
          "data": {
            "image/png": "[encoded data removed]",
            "text/plain": [
              "<Figure size 1500x500 with 4 Axes>"
            ]
          },
          "metadata": {},
          "output_type": "display_data"
        }
      ],
      "source": [
        "###########################################################\n",
        "############# YOUR CODE HERE ##############################\n",
        "###########################################################\n",
        "fig, axes = plt.subplots(1, 4, figsize = (15, 5), sharey=True)\n",
        "idxs = np.random.randint(len(train_dataset), size=4)\n",
        "\n",
        "axes[0].imshow(train_dataset[idxs[0]][0], cmap='grey')\n",
        "axes[1].imshow(train_dataset[idxs[1]][0], cmap='grey')\n",
        "axes[2].imshow(train_dataset[idxs[2]][0], cmap='grey')\n",
        "axes[3].imshow(train_dataset[idxs[3]][0], cmap='grey')\n",
        "\n",
        "plt.show()"
      ]
    },
    {
      "cell_type": "markdown",
      "metadata": {
        "id": "320RvzL7PZrI"
      },
      "source": [
        "В конструктор `Dataset` можно передать объект `torchvision.transforms`, который позволяет преобразовать исходные данные. Преобразование `torchvision.transforms.ToTensor` позволяет преобразоать данные из типа `PIL Image` и `numpy.float32` в тип `torch.float32`\n",
        "\n",
        "Реализуйте собственную поддержку преобразований в `FashionMnist`. Проверьте, что приведение типов работает корректно."
      ]
    },
    {
      "cell_type": "code",
      "execution_count": 153,
      "metadata": {
        "id": "pQsGbfXUTxcx"
      },
      "outputs": [],
      "source": [
        "class ToTensor:\n",
        "    \"\"\"Convert ndarrays in sample to Tensors.\"\"\"\n",
        "\n",
        "    def __call__(self, sample):\n",
        "        return torch.from_numpy(sample)"
      ]
    },
    {
      "cell_type": "code",
      "execution_count": 154,
      "metadata": {
        "id": "7BpFQ_Y2PoeI"
      },
      "outputs": [],
      "source": [
        "transform = ToTensor()\n",
        "\n",
        "test_dataset = FashionMnist(\"data/FashionMNIST\",\n",
        "                            train=False,\n",
        "                            image_transform=transform,\n",
        "                            label_transform=transform\n",
        "                            )\n",
        "train_dataset = FashionMnist(\"data/FashionMNIST\",\n",
        "                             image_transform=transform,\n",
        "                             label_transform=transform\n",
        "                             )"
      ]
    },
    {
      "cell_type": "code",
      "execution_count": 155,
      "metadata": {
        "id": "ukLn9rY7SCsS"
      },
      "outputs": [
        {
          "name": "stdout",
          "output_type": "stream",
          "text": [
            "The type of the data is <class 'torch.Tensor'>\n"
          ]
        }
      ],
      "source": [
        "print(f\"The type of the data is {type(test_dataset[0][0])}\")"
      ]
    },
    {
      "cell_type": "markdown",
      "metadata": {
        "id": "5Ltavx0QUMnm"
      },
      "source": [
        "Элементы набора данных могут быть объединены в пакеты (batch) явно и неявно. Если данные могут быть сконкатенированы или обЪединены каким-нибудь тривиальным способом, то можно не передавать никаких дополнительных парамертов в `torch.utils.data.Dataloader`."
      ]
    },
    {
      "cell_type": "code",
      "execution_count": 185,
      "metadata": {
        "id": "Cizxx6m0VAI7"
      },
      "outputs": [],
      "source": [
        "test_dataloader = DataLoader(test_dataset, batch_size=15, num_workers=2, shuffle=True)\n",
        "batch = next(iter(test_dataloader))"
      ]
    },
    {
      "cell_type": "code",
      "execution_count": 186,
      "metadata": {
        "id": "SIZiPrBgVwGA"
      },
      "outputs": [
        {
          "name": "stdout",
          "output_type": "stream",
          "text": [
            "The length of the batch is 2\n",
            "The shape of the batch[0] is torch.Size([60, 28, 28])\n"
          ]
        }
      ],
      "source": [
        "print(f\"The length of the batch is {len(batch)}\")\n",
        "print(f\"The shape of the batch[0] is {batch[0].shape}\")"
      ]
    },
    {
      "cell_type": "markdown",
      "metadata": {
        "id": "BCggRyOQWVIx"
      },
      "source": [
        "Однако, если наша структура данных не позволяет нам использовать объединение по умолчанию, то можно написать собственную функцию, которая будет пакетировать данные.\n",
        "\n",
        "Реализуйте функцию, преобразующую последовательность элементов массива в пакет (batch)."
      ]
    },
    {
      "cell_type": "code",
      "execution_count": 187,
      "metadata": {
        "id": "nQVh93fmWSjA"
      },
      "outputs": [],
      "source": [
        "def collate(batch):\n",
        "    ###########################################################\n",
        "    ############# YOUR CODE HERE ##############################\n",
        "    ###########################################################\n",
        "    imgs = torch.stack([sample[0] for sample in batch], dim=0).to(torch.float32)\n",
        "    labels = torch.stack([sample[1] for sample in batch], dim=0)\n",
        "    return imgs, labels"
      ]
    },
    {
      "cell_type": "markdown",
      "metadata": {
        "id": "Wij6F-vpe7KS"
      },
      "source": [
        "Убедитесть, что все работает корректно."
      ]
    },
    {
      "cell_type": "code",
      "execution_count": 456,
      "metadata": {
        "id": "4dDtlvlCXNbW"
      },
      "outputs": [],
      "source": [
        "test_dataloader = DataLoader(test_dataset, batch_size=128, num_workers=2,\n",
        "                             shuffle=True, collate_fn=collate)\n",
        "train_dataloader = DataLoader(train_dataset, batch_size=128, num_workers=2,\n",
        "                              shuffle=True, collate_fn=collate)\n",
        "batch = next(iter(test_dataloader))"
      ]
    },
    {
      "cell_type": "code",
      "execution_count": 457,
      "metadata": {
        "id": "PFN00IyZXYaF"
      },
      "outputs": [
        {
          "name": "stdout",
          "output_type": "stream",
          "text": [
            "The length of the batch is 2\n",
            "The shape of the batch[0] is torch.Size([128, 28, 28])\n"
          ]
        }
      ],
      "source": [
        "print(f\"The length of the batch is {len(batch)}\")\n",
        "print(f\"The shape of the batch[0] is {batch[0].shape}\")"
      ]
    },
    {
      "cell_type": "markdown",
      "metadata": {
        "id": "VHcumwuF86kL"
      },
      "source": [
        "## 2. Реализация модулей нейронной сети (15 баллов)\n",
        "\n",
        "В этом разделе мы полностью реализуем модули для полносвязанной сети.\n",
        "\n",
        "Для начала нам понадобится реализовать прямой и обратный проход через слои.\n",
        "\n",
        "Наши слои будут соответствовать следующему интерфейсу (на примере \"тождественного\" слоя):"
      ]
    },
    {
      "cell_type": "markdown",
      "metadata": {
        "id": "zzhCW5HcfmKd"
      },
      "source": [
        "Сначала, мы реализуем функцию и её градиент."
      ]
    },
    {
      "cell_type": "code",
      "execution_count": 216,
      "metadata": {
        "id": "rcqeFXxsFGQO"
      },
      "outputs": [],
      "source": [
        "class IdentityFunction(Function):\n",
        "    \"\"\"\n",
        "    We can implement our own custom autograd Functions by subclassing\n",
        "    torch.autograd.Function and implementing the forward and backward passes\n",
        "    which operate on Tensors.\n",
        "    \"\"\"\n",
        "    @staticmethod\n",
        "    def forward(ctx, input):\n",
        "        \"\"\"\n",
        "        In the forward pass we receive a Tensor containing the input and return\n",
        "        a Tensor containing the output. ctx is a context object that can be used\n",
        "        to stash information for backward computation. You can cache arbitrary\n",
        "        objects for use in the backward pass using the ctx.save_for_backward method.\n",
        "        \"\"\"\n",
        "        return input\n",
        "\n",
        "    @staticmethod\n",
        "    def backward(ctx, grad_output):\n",
        "        \"\"\"\n",
        "        In the backward pass we receive a Tensor containing the gradient of the loss\n",
        "        with respect to the output, and we need to compute the gradient of the loss\n",
        "        with respect to the input.\n",
        "        \"\"\"\n",
        "        return grad_output"
      ]
    },
    {
      "cell_type": "markdown",
      "metadata": {
        "id": "jc6Rtczffxv4"
      },
      "source": [
        "Разработанную функцию обернем классом `IdentityLayer`, все слои в `PyTorch` должны быть наследниками базового класса `nn.Module()`\n"
      ]
    },
    {
      "cell_type": "code",
      "execution_count": 217,
      "metadata": {
        "id": "SiqeRVcM86kM"
      },
      "outputs": [],
      "source": [
        "class IdentityLayer(nn.Module):\n",
        "    def __init__(self):\n",
        "        # An identity layer does nothing\n",
        "        super().__init__()\n",
        "        self.identity = IdentityFunction.apply\n",
        "\n",
        "    def forward(self, inp):\n",
        "        # An identity layer just returns whatever it gets as input.\n",
        "        return self.identity(inp)"
      ]
    },
    {
      "cell_type": "markdown",
      "metadata": {
        "id": "N4IoM_pX86kQ"
      },
      "source": [
        "\n",
        "### 2.1 Функция активации ReLU (1 балл)\n",
        "Для начала реализуем функцию активации, слой нелинейности `ReLU(x) = max(x, 0)`. Параметров у слоя нет. Метод `forward` должен вернуть результат поэлементного применения `ReLU` к входному массиву, метод `backward` - градиент функции потерь по входу слоя. В нуле будем считать производную равной 0. Обратите внимание, что при обратном проходе могут понадобиться величины, посчитанные во время прямого прохода, поэтому их стоит сохранить в `ctx`."
      ]
    },
    {
      "cell_type": "code",
      "execution_count": 218,
      "metadata": {
        "id": "U9qrJ47xY6H0"
      },
      "outputs": [],
      "source": [
        "class ReLUFunction(Function):\n",
        "    @staticmethod\n",
        "    def forward(ctx, inp):\n",
        "        ###########################################################\n",
        "        ############# YOUR CODE HERE ##############################\n",
        "        ###########################################################\n",
        "        ctx.save_for_backward(inp)\n",
        "        output = inp.clone().detach()\n",
        "        output[output < 0] = 0\n",
        "        return output\n",
        "\n",
        "    @staticmethod\n",
        "    def backward(ctx, grad_output):\n",
        "        ###########################################################\n",
        "        ############# YOUR CODE HERE ##############################\n",
        "        ###########################################################\n",
        "        inp, = ctx.saved_tensors\n",
        "        return grad_output * (inp > 0) \n"
      ]
    },
    {
      "cell_type": "code",
      "execution_count": 219,
      "metadata": {
        "id": "y09ZVCsT86kT"
      },
      "outputs": [],
      "source": [
        "class ReLU(nn.Module):\n",
        "    def __init__(self):\n",
        "        ###########################################################\n",
        "        ############# YOUR CODE HERE ##############################\n",
        "        ###########################################################\n",
        "        super().__init__()\n",
        "        self.relu = ReLUFunction.apply\n",
        "\n",
        "\n",
        "    def forward(self, inp):\n",
        "        ###########################################################\n",
        "        ############# YOUR CODE HERE ##############################\n",
        "        ###########################################################\n",
        "        return self.relu(inp)"
      ]
    },
    {
      "cell_type": "markdown",
      "metadata": {
        "id": "2RwKEUp_V3-L"
      },
      "source": [
        "Не забываем после реализации функции проверить градиент, испльзуя функцию `gradcheck`."
      ]
    },
    {
      "cell_type": "code",
      "execution_count": 220,
      "metadata": {
        "id": "K0RnDQZCXXZn"
      },
      "outputs": [],
      "source": [
        "###########################################################\n",
        "############# YOUR CODE HERE ##############################\n",
        "###########################################################\n",
        "x = torch.randn(3, 5, requires_grad=True, dtype=torch.float64)\n",
        "relu = ReLUFunction.apply\n",
        "\n",
        "assert gradcheck(relu, x)"
      ]
    },
    {
      "cell_type": "code",
      "execution_count": 221,
      "metadata": {
        "id": "vUmbmR4iXurd"
      },
      "outputs": [],
      "source": [
        "###########################################################\n",
        "############# YOUR CODE HERE ##############################\n",
        "###########################################################\n",
        "\n",
        "assert torch.norm(nn.ReLU()(x.float()) - relu(x)) < 1e-5"
      ]
    },
    {
      "cell_type": "markdown",
      "metadata": {
        "id": "ojTR4GFd86kY"
      },
      "source": [
        "### 2.2 Линейный слой (linear, fully-connected) (3 балла)\n",
        "Далее реализуем полносвязный слой без нелинейности. У слоя два набора параметра: матрица весов (weights) и вектор смещения (bias)."
      ]
    },
    {
      "cell_type": "code",
      "execution_count": 222,
      "metadata": {
        "id": "fBl34oykbcBf"
      },
      "outputs": [],
      "source": [
        "class LinearFunction(Function):\n",
        "    @staticmethod\n",
        "    def forward(ctx, inp, weight, bias):\n",
        "        ###########################################################\n",
        "        ############# YOUR CODE HERE ##############################\n",
        "        ###########################################################\n",
        "        ctx.save_for_backward(inp, weight, bias)\n",
        "        output = inp.mm(weight.T) + bias.unsqueeze(0)\n",
        "        return output\n",
        "\n",
        "    @staticmethod\n",
        "    def backward(ctx, grad_output):\n",
        "        ###########################################################\n",
        "        ############# YOUR CODE HERE ##############################\n",
        "        ###########################################################\n",
        "        inp, weight, bias = ctx.saved_tensors\n",
        "        grad_input = grad_weight = grad_bias = None\n",
        "\n",
        "        if ctx.needs_input_grad[0]:\n",
        "            grad_input = grad_output.mm(weight)\n",
        "        if ctx.needs_input_grad[1]:\n",
        "            grad_weight = grad_output.T.mm(inp)\n",
        "        if bias is not None and ctx.needs_input_grad[2]:\n",
        "            grad_bias = grad_output.sum(0)\n",
        "\n",
        "        return grad_input, grad_weight, grad_bias"
      ]
    },
    {
      "cell_type": "code",
      "execution_count": 379,
      "metadata": {
        "id": "YbN5JOc886kZ"
      },
      "outputs": [],
      "source": [
        "class Linear(nn.Module):\n",
        "    def __init__(self, input_units, output_units):\n",
        "        super().__init__()\n",
        "        # initialize weights with small random numbers from normal distribution\n",
        "        ###########################################################\n",
        "        ############# YOUR CODE HERE ##############################\n",
        "        ###########################################################\n",
        "        super().__init__()\n",
        "        self.linear = LinearFunction.apply\n",
        "        std = 1 / input_units**0.5\n",
        "        self.weight = nn.Parameter(2 * std * torch.rand(output_units, input_units, dtype=torch.float32) - std)\n",
        "        self.bias = nn.Parameter(2 * std * torch.rand(output_units, dtype=torch.float32) - std)\n",
        "\n",
        "    def forward(self,inp):\n",
        "        ###########################################################\n",
        "        ############# YOUR CODE HERE ##############################\n",
        "        ###########################################################\n",
        "\n",
        "        return self.linear(inp, self.weight, self.bias)"
      ]
    },
    {
      "cell_type": "markdown",
      "metadata": {
        "id": "gToXI43WYMDv"
      },
      "source": [
        "Проверим градиент, а также сравним с работой нашего модуля с имплементированным в `PyTorch`."
      ]
    },
    {
      "cell_type": "markdown",
      "metadata": {
        "id": "et7mKX5xZfMI"
      },
      "source": [
        "Проверка градиента:"
      ]
    },
    {
      "cell_type": "code",
      "execution_count": 380,
      "metadata": {
        "id": "PxLVozqLZb_H"
      },
      "outputs": [],
      "source": [
        "###########################################################\n",
        "############# YOUR CODE HERE ##############################\n",
        "###########################################################\n",
        "input_units = 28\n",
        "output_units = 16\n",
        "\n",
        "x = torch.randn(4, input_units, requires_grad=True, dtype=torch.float64)\n",
        "weight = torch.randn(output_units, input_units, dtype=torch.float64)\n",
        "bias = torch.randn(output_units, dtype=torch.float64)\n",
        "\n",
        "linear = LinearFunction.apply\n",
        "\n",
        "assert gradcheck(linear, (x, weight, bias))"
      ]
    },
    {
      "cell_type": "markdown",
      "metadata": {
        "id": "pW8ppOciZndN"
      },
      "source": [
        "Сравнение с `PyTorch`."
      ]
    },
    {
      "cell_type": "code",
      "execution_count": 381,
      "metadata": {
        "id": "IIR9svs7Zmq0"
      },
      "outputs": [],
      "source": [
        "###########################################################\n",
        "############# YOUR CODE HERE ##############################\n",
        "###########################################################\n",
        "torch_linear = nn.Linear(input_units, output_units)\n",
        "our_linear = Linear(input_units, output_units)\n",
        "\n",
        "weight = torch.randn(output_units, input_units, dtype=torch.float32)\n",
        "bias = torch.randn(output_units, dtype=torch.float32)\n",
        "\n",
        "state_dict = OrderedDict([(\"weight\", weight), (\"bias\", bias)])\n",
        "torch_linear.load_state_dict(state_dict)\n",
        "our_linear.load_state_dict(state_dict)\n",
        "\n",
        "x = torch.randn(4, input_units, requires_grad=True, dtype=torch.float32)\n",
        "###########################################################\n",
        "############# YOUR CODE HERE ##############################\n",
        "###########################################################\n",
        "assert torch.norm(torch_linear(x) - our_linear(x)) < 1e-5"
      ]
    },
    {
      "cell_type": "markdown",
      "metadata": {
        "id": "0dyhDg0D86kt"
      },
      "source": [
        "### 2.3 LogSoftmax (Log + Softmax) (4 балла)"
      ]
    },
    {
      "cell_type": "markdown",
      "metadata": {
        "id": "ArL0HLGH86ku"
      },
      "source": [
        "Для решения задачи многоклассовой классификации обычно используют `softmax` в качестве нелинейности на последнем слое, чтобы получить \"оценку\" вероятности классов для каждого объекта:$$\\hat y = softmax(x)  = \\bigl \\{\\frac {exp(x_i)}{\\sum_j exp(x_j)} \\bigr \\}_{i=1}^K, \\quad K - \\text{число классов}$$В этом случае удобно оптимизировать логарифм правдоподобия:$$L(y, \\hat y) = -\\sum_{i=1}^K y_i \\log \\hat y_i \\rightarrow \\min,$$где $y_i=1$, если объект принадлежит $i$-му классу, и 0 иначе. Записанная в таком виде, эта функция потерь совпадает с выражением для кросс-энтропии. Очевидно, что ее также можно переписать через индексацию, если через $y_i$ обозначить класс данного объекта:$$L(y, \\hat y) = - \\log \\hat y_{y_i} \\rightarrow \\min$$В таком виде ее удобно реализовывать.\n",
        "\n",
        "Реализуйте слой `LogSoftmax` (без параметров). Метод `forward` должен вычислять логарифм от `softmax`, а метод `backward` - пропускать градиенты. В общем случае в промежуточных вычислениях `backward` получится трехмерный тензор, однако для нашей конкретной функции потерь все вычисления можно реализовать в матричном виде. Поэтому мы будем предполагать, что аргумент `grad_output` - это матрица, у которой в каждой строке только одно ненулевое значение (не обязательно единица).\n",
        "\n",
        "Для полного балла нужна имплементация с `Log-Sum-Exp trick`."
      ]
    },
    {
      "cell_type": "code",
      "execution_count": 382,
      "metadata": {
        "id": "xSV3XD0N86ky"
      },
      "outputs": [],
      "source": [
        "class LogSoftmaxFunction(Function):\n",
        "    @staticmethod\n",
        "    def forward(ctx, inp):\n",
        "        ###########################################################\n",
        "        ############# YOUR CODE HERE ##############################\n",
        "        ###########################################################\n",
        "        ctx.save_for_backward(inp.clone().detach())\n",
        "        output = inp.clone().detach()\n",
        "        c = torch.amax(output, -1)\n",
        "        output -= c.unsqueeze(-1)\n",
        "        output = output - torch.log(torch.exp(output).sum(-1)).unsqueeze(-1)\n",
        "        return output\n",
        "\n",
        "\n",
        "    @staticmethod\n",
        "    def backward(ctx, grad_output):\n",
        "        ###########################################################\n",
        "        ############# YOUR CODE HERE ##############################\n",
        "        ###########################################################\n",
        "        inp, = ctx.saved_tensors\n",
        "        tmp = torch.exp(inp - torch.amax(inp, -1).unsqueeze(-1))\n",
        "        sftmx = tmp / tmp.sum(1).unsqueeze(-1)\n",
        "        weights = grad_output.sum(1).unsqueeze(-1)\n",
        "        return grad_output - weights * sftmx"
      ]
    },
    {
      "cell_type": "code",
      "execution_count": 383,
      "metadata": {
        "id": "z7OnC6o_z2vg"
      },
      "outputs": [],
      "source": [
        "class LogSoftmax(nn.Module):\n",
        "    def __init__(self):\n",
        "        super().__init__()\n",
        "        ###########################################################\n",
        "        ############# YOUR CODE HERE ##############################\n",
        "        ###########################################################\n",
        "        super().__init__()\n",
        "        self.logsoftmax = LogSoftmaxFunction.apply\n",
        "\n",
        "\n",
        "    def forward(self, inp):\n",
        "        ###########################################################\n",
        "        ############# YOUR CODE HERE ##############################\n",
        "        ###########################################################\n",
        "\n",
        "        return self.logsoftmax(inp)"
      ]
    },
    {
      "cell_type": "markdown",
      "metadata": {
        "id": "Ke4G67cddjVA"
      },
      "source": [
        "Проверка градиентов."
      ]
    },
    {
      "cell_type": "code",
      "execution_count": 384,
      "metadata": {
        "id": "cfgkVgGbrQEv"
      },
      "outputs": [],
      "source": [
        "###########################################################\n",
        "############# YOUR CODE HERE ##############################\n",
        "###########################################################\n",
        "\n",
        "x = torch.randn(15, 32, requires_grad=True, dtype=torch.float64)\n",
        "logsoftmax = LogSoftmaxFunction.apply\n",
        "\n",
        "assert gradcheck(logsoftmax, x)"
      ]
    },
    {
      "cell_type": "code",
      "execution_count": 385,
      "metadata": {},
      "outputs": [],
      "source": [
        "assert torch.norm(nn.LogSoftmax(dim=1)(x) - logsoftmax(x)) < 1e-5"
      ]
    },
    {
      "cell_type": "markdown",
      "metadata": {
        "id": "3Sn2M_Q086k2"
      },
      "source": [
        "### 2.4 Dropout (2 балла)\n",
        "Реализуйте слой Dropout."
      ]
    },
    {
      "cell_type": "code",
      "execution_count": 444,
      "metadata": {
        "id": "qCLECy1y86k3"
      },
      "outputs": [],
      "source": [
        "class DropoutFunction(Function):\n",
        "    @staticmethod\n",
        "    def forward(ctx, inp, p):\n",
        "        ###########################################################\n",
        "        ############# YOUR CODE HERE ##############################\n",
        "        ###########################################################\n",
        "        mask = torch.bernoulli(torch.ones_like(inp) - p)\n",
        "        output = mask * inp\n",
        "        ctx.save_for_backward(mask)\n",
        "        return output\n",
        "        \n",
        "\n",
        "    @staticmethod\n",
        "    def backward(ctx, grad_output):\n",
        "        ###########################################################\n",
        "        ############# YOUR CODE HERE ##############################\n",
        "        ###########################################################\n",
        "        mask, = ctx.saved_tensors\n",
        "        return grad_output * mask, None"
      ]
    },
    {
      "cell_type": "code",
      "execution_count": 445,
      "metadata": {
        "id": "pS5z_mth1ZAZ"
      },
      "outputs": [],
      "source": [
        "class Dropout(nn.Module):\n",
        "    def __init__(self, p):\n",
        "        super().__init__()\n",
        "        ###########################################################\n",
        "        ############# YOUR CODE HERE ##############################\n",
        "        ###########################################################\n",
        "        super().__init__()\n",
        "        self.dropout = DropoutFunction.apply\n",
        "        self.p = p\n",
        "\n",
        "    def forward(self, inp):\n",
        "        ###########################################################\n",
        "        ############# YOUR CODE HERE ##############################\n",
        "        ###########################################################\n",
        "        if self.training:\n",
        "            return self.dropout(inp, self.p)\n",
        "        else:\n",
        "            return inp * (1 - self.p)"
      ]
    },
    {
      "cell_type": "markdown",
      "metadata": {
        "id": "hyPPzkCI86k7"
      },
      "source": [
        "### 2.5 CrossEntropy (5 баллов)\n",
        "\n",
        "При решении задачи многоклассовой классификации мы будет использовать в качестве функции потерь **кроссэнтропию, совместимую с `LogSoftmax` активацией**. \n",
        "\n",
        "Реализуйте эту функцию потерь. В разделе 2.3 приведены полезные формулы."
      ]
    },
    {
      "cell_type": "code",
      "execution_count": 446,
      "metadata": {
        "id": "KotXWXnT3-j5"
      },
      "outputs": [],
      "source": [
        "class CrossEntropyFunction(Function):\n",
        "    @staticmethod\n",
        "    def forward(ctx, activations, target):\n",
        "        ###########################################################\n",
        "        ############# YOUR CODE HERE ##############################\n",
        "        ###########################################################\n",
        "        target_long = target.to(torch.long)\n",
        "        ctx.save_for_backward(activations, target_long)\n",
        "        return -activations[range(activations.shape[0]), target_long].mean()\n",
        "\n",
        "    @staticmethod\n",
        "    def backward(ctx, grad_output):\n",
        "        ###########################################################\n",
        "        ############# YOUR CODE HERE ##############################\n",
        "        ###########################################################\n",
        "        activations, target = ctx.saved_tensors\n",
        "        grad_input = torch.zeros_like(activations)\n",
        "        grad_input[range(grad_input.shape[0]), target] = -1 / activations.shape[0]\n",
        "        return grad_output * grad_input, None\n",
        "\n",
        "class CrossEntropy(nn.Module):\n",
        "    def __init__(self):\n",
        "        super().__init__()\n",
        "        ###########################################################\n",
        "        ############# YOUR CODE HERE ##############################\n",
        "        ###########################################################\n",
        "        self.cross_entropy = CrossEntropyFunction.apply\n",
        "\n",
        "    def forward(self, activations, target):\n",
        "        ###########################################################\n",
        "        ############# YOUR CODE HERE ##############################\n",
        "        ###########################################################\n",
        "        return self.cross_entropy(activations, target)"
      ]
    },
    {
      "cell_type": "markdown",
      "metadata": {
        "id": "vFNcOfVNesCC"
      },
      "source": [
        "Проверка градиентов."
      ]
    },
    {
      "cell_type": "code",
      "execution_count": 447,
      "metadata": {
        "id": "lXQr7sllKi8k"
      },
      "outputs": [],
      "source": [
        "###########################################################\n",
        "############# YOUR CODE HERE ##############################\n",
        "###########################################################\n",
        "sample_num = 15\n",
        "x = torch.randn(sample_num, 10, dtype=torch.float64)\n",
        "x = LogSoftmaxFunction.apply(x)\n",
        "x.requires_grad = True\n",
        "target = torch.randint(10, size=(sample_num,))\n",
        "layer = CrossEntropy()\n",
        "\n",
        "assert gradcheck(layer, (x, target))"
      ]
    },
    {
      "cell_type": "markdown",
      "metadata": {
        "id": "kmzKDpyE86lg"
      },
      "source": [
        "## 3. Сборка и обучение нейронной сети (5 баллов)"
      ]
    },
    {
      "cell_type": "markdown",
      "metadata": {
        "id": "mPqlZfj_86lg"
      },
      "source": [
        "Реализуйте из ваших блоков персептрон и обучите его, залоггировав итоговый лосс и метрику на валидационной выборке. **(1 балл)**\n",
        "\n",
        "Подсказка: вытягиваем картинку в вектор с помощью [nn.Flatten](https://pytorch.org/docs/stable/generated/torch.nn.Flatten.html)"
      ]
    },
    {
      "cell_type": "code",
      "execution_count": 448,
      "metadata": {
        "id": "tkESXVD87sM8"
      },
      "outputs": [],
      "source": [
        "class Network(nn.Module):\n",
        "    def __init__(self, input_size=28*28, hidden_layers_size=32, num_layers=5,\n",
        "                 num_classes=10):\n",
        "        super().__init__()\n",
        "        ###########################################################\n",
        "        ############# YOUR CODE HERE ##############################\n",
        "        ###########################################################\n",
        "        self.input_layer = Linear(input_size, hidden_layers_size)\n",
        "        self.hidden_layers = nn.Sequential(*[Linear(hidden_layers_size, hidden_layers_size) for _ in range(num_layers-2)])\n",
        "        self.output_layer = Linear(hidden_layers_size, num_classes)\n",
        "\n",
        "        self.activation = ReLU()\n",
        "        self.dropout = Dropout(p=0.1)\n",
        "        self.logsoftmax = LogSoftmax()\n",
        "        self.flatten = nn.Flatten()\n",
        "\n",
        "    def forward(self, inp):\n",
        "        ###########################################################\n",
        "        ############# YOUR CODE HERE ##############################\n",
        "        ###########################################################\n",
        "        out = self.activation(self.input_layer(self.flatten(inp)))\n",
        "        for hidden_layer in self.hidden_layers:\n",
        "            out = self.activation(hidden_layer(self.dropout(out)))\n",
        "        out = self.output_layer(self.dropout(out))\n",
        "        return self.logsoftmax(out)\n",
        "\n",
        "\n",
        "    def predict(self, inp):\n",
        "        ###########################################################\n",
        "        ############# YOUR CODE HERE ##############################\n",
        "        ###########################################################\n",
        "        out = self.activation(self.input_layer(self.flatten(inp)))\n",
        "        for hidden_layer in self.hidden_layers:\n",
        "            out = self.activation(hidden_layer(self.dropout(out)))\n",
        "        out = self.output_layer(self.dropout(out))\n",
        "        return out.argmax(1)"
      ]
    },
    {
      "cell_type": "markdown",
      "metadata": {
        "id": "Vj-eEvMFfbSo"
      },
      "source": [
        "Ниже приведены функции, реализующие обучение нейронной сети. В данном задании их предлагается просто переиспользовать."
      ]
    },
    {
      "cell_type": "code",
      "execution_count": 449,
      "metadata": {
        "id": "vDhcoCB4OpXE"
      },
      "outputs": [],
      "source": [
        "class EmptyContext:\n",
        "    def __enter__(self):\n",
        "        pass\n",
        "\n",
        "    def __exit__(self, *args):\n",
        "        pass"
      ]
    },
    {
      "cell_type": "code",
      "execution_count": 450,
      "metadata": {},
      "outputs": [],
      "source": [
        "# accuracy metric for our classififcation\n",
        "def accuracy(model_labels, labels):\n",
        "    return torch.mean((model_labels == labels).float())"
      ]
    },
    {
      "cell_type": "code",
      "execution_count": 458,
      "metadata": {
        "id": "Oy33FHuv_Us-"
      },
      "outputs": [],
      "source": [
        "def perform_epoch(model, loader, criterion,\n",
        "                optimizer=None, device=None):\n",
        "    is_train = optimizer is not None\n",
        "    model = model.to(device)\n",
        "    if is_train:\n",
        "        model.train()\n",
        "    else:\n",
        "        model.eval()\n",
        "\n",
        "    total_loss = 0\n",
        "    total_acc = 0\n",
        "    total_n = 0\n",
        "    with EmptyContext() if is_train else torch.no_grad():\n",
        "        for batch_data, batch_labels in loader:\n",
        "            batch_data = batch_data.to(device)\n",
        "            batch_labels = batch_labels.to(device)\n",
        "            model_labels = model(batch_data)\n",
        "            model_prediction = model.predict(batch_data)\n",
        "            new_loss = criterion(model_labels, batch_labels)\n",
        "            if is_train:\n",
        "              optimizer.zero_grad()\n",
        "              new_loss.backward()\n",
        "              optimizer.step()\n",
        "\n",
        "            one_batch_loss = float(criterion(model_labels, batch_labels))\n",
        "            one_batch_acc = accuracy(model_prediction, batch_labels)\n",
        "\n",
        "            total_loss += one_batch_loss\n",
        "            total_acc += one_batch_acc\n",
        "            total_n += 1\n",
        "    return (total_loss / total_n, total_acc / total_n)"
      ]
    },
    {
      "cell_type": "markdown",
      "metadata": {
        "id": "FtamPEJZgOY5"
      },
      "source": [
        "Теперь обучим нашу нейронную сеть. В данном разделе будем использовать оптимизатор `Adam` с параметрами по умолчанию."
      ]
    },
    {
      "cell_type": "code",
      "execution_count": 465,
      "metadata": {
        "id": "mEcyUJJI_aAn"
      },
      "outputs": [],
      "source": [
        "model     = Network() #your network\n",
        "optimizer = Adam(model.parameters())#your optimizer\n",
        "criterion = CrossEntropy()#your loss"
      ]
    },
    {
      "cell_type": "code",
      "execution_count": 466,
      "metadata": {},
      "outputs": [
        {
          "name": "stdout",
          "output_type": "stream",
          "text": [
            "Epoch - 0 : loss 0.9208721554736847, accuracy 0.6611252427101135\n",
            "Current learning rate: 0.001\n",
            "Epoch - 1 : loss 0.6134663290941893, accuracy 0.782488226890564\n",
            "Current learning rate: 0.001\n",
            "Epoch - 2 : loss 0.5647806806732089, accuracy 0.80330491065979\n",
            "Current learning rate: 0.001\n",
            "Epoch - 3 : loss 0.5423170118443748, accuracy 0.8114394545555115\n",
            "Current learning rate: 0.001\n",
            "Epoch - 4 : loss 0.5198750490827093, accuracy 0.8151152729988098\n",
            "Current learning rate: 0.001\n",
            "Epoch - 5 : loss 0.50524333055848, accuracy 0.8234330415725708\n",
            "Current learning rate: 0.001\n",
            "Epoch - 6 : loss 0.49597279451040827, accuracy 0.8253486752510071\n",
            "Current learning rate: 0.001\n",
            "Epoch - 7 : loss 0.49064518597080253, accuracy 0.8278140425682068\n",
            "Current learning rate: 0.001\n",
            "Epoch - 8 : loss 0.48188145855850756, accuracy 0.8321673274040222\n",
            "Current learning rate: 0.001\n",
            "Epoch - 9 : loss 0.4789620137799269, accuracy 0.8333666920661926\n",
            "Current learning rate: 0.001\n"
          ]
        }
      ],
      "source": [
        "device = torch.device(\"cuda\" if torch.cuda.is_available() else \"cpu\")\n",
        "\n",
        "model.to(device)\n",
        "\n",
        "for epoch in range(10):\n",
        "    loss, acc = perform_epoch(model, train_dataloader, criterion,\n",
        "                                optimizer=optimizer, device=device)\n",
        "    print(f\"Epoch - {epoch} : loss {loss}, accuracy {acc}\")\n",
        "    print(f\"Current learning rate: {optimizer.param_groups[0]['lr']}\")"
      ]
    },
    {
      "cell_type": "code",
      "execution_count": 467,
      "metadata": {
        "id": "JxrvNtm3YSJn"
      },
      "outputs": [
        {
          "name": "stdout",
          "output_type": "stream",
          "text": [
            "Epoch - 9 : loss 0.4789620137799269, accuracy 0.8333666920661926\n",
            "Current learning rate: 0.001\n"
          ]
        }
      ],
      "source": [
        "print(f\"Epoch - {epoch} : loss {loss}, accuracy {acc}\")\n",
        "print(f\"Current learning rate: {optimizer.param_groups[0]['lr']}\")"
      ]
    },
    {
      "cell_type": "markdown",
      "metadata": {
        "id": "WS41CQj0Y6Q8"
      },
      "source": [
        "Дальше **(4 балла)**:\n",
        "- Проведите эксперименты с числом слоев.\n",
        "- Постройте графики зависимости качества модели на тренировочной и тестовой выборках от числа слоев. Для получения статистически значимых результатов повторите эксперименты несколько раз.\n",
        "- Сделайте выводы.\n",
        "\n",
        "Training Loop для выполнения этой части задания можно и нужно улучшать, в том числе, добавляя более продвинутое логгирование эксперимента."
      ]
    },
    {
      "cell_type": "code",
      "execution_count": 472,
      "metadata": {},
      "outputs": [
        {
          "name": "stderr",
          "output_type": "stream",
          "text": [
            "100%|██████████| 9/9 [49:26<00:00, 329.56s/it]\n"
          ]
        }
      ],
      "source": [
        "from tqdm import tqdm\n",
        "\n",
        "num_exp = 8\n",
        "num_epoch = 10\n",
        "criterion = CrossEntropy()\n",
        "layers_range = list(range(3, 12))\n",
        "device = torch.device(\"cuda\" if torch.cuda.is_available() else \"cpu\")\n",
        "experiment_results = [[[], [], [], []] for _ in layers_range]\n",
        "\n",
        "for i, num_layers in enumerate(tqdm(layers_range)):\n",
        "    for _ in range(num_exp):\n",
        "        model = Network(num_layers=num_layers)\n",
        "        optimizer = Adam(model.parameters())\n",
        "\n",
        "        model.to(device)\n",
        "        for epoch in range(num_epoch):\n",
        "            loss_train, acc_train = perform_epoch(model, train_dataloader, criterion, optimizer=optimizer, device=device)\n",
        "\n",
        "        experiment_results[i][0].append(loss_train)\n",
        "        experiment_results[i][1].append(acc_train.item())\n",
        "\n",
        "        loss_val, acc_val = perform_epoch(model, test_dataloader, criterion, optimizer=None, device=device)\n",
        "        experiment_results[i][2].append(loss_val)\n",
        "        experiment_results[i][3].append(acc_val.item())"
      ]
    },
    {
      "cell_type": "code",
      "execution_count": 534,
      "metadata": {},
      "outputs": [
        {
          "data": {
            "image/png": "[encoded data removed]",
            "text/plain": [
              "<Figure size 1500x1500 with 4 Axes>"
            ]
          },
          "metadata": {},
          "output_type": "display_data"
        }
      ],
      "source": [
        "tmp = np.array(experiment_results)\n",
        "\n",
        "fig, axes = plt.subplots(4, 1, figsize = (15, 15), sharex=True)\n",
        "ylabels = ['train loss', 'train accuracy', 'test loss', 'test accuracy']\n",
        "\n",
        "for i, v in enumerate(axes):\n",
        "    v.set_title('Layers num vs ' + ylabels[i])\n",
        "    v.set_ylabel(ylabels[i])\n",
        "    v.boxplot(tmp[:, i, :].T, tick_labels=layers_range)\n",
        "\n",
        "\n",
        "plt.xlabel('Layers number', fontsize=20)\n",
        "plt.xticks(size=20)\n",
        "plt.tight_layout()\n",
        "plt.show()"
      ]
    },
    {
      "cell_type": "markdown",
      "metadata": {},
      "source": [
        "#### На картинках видно, что есть некоторая зависимость, похожая на унимодальную. Если слоев было 6-7, то результаты были стабильные и точность была похожая между всеми прогонами экспериментов. Если слоев становилось больше или меньше, то и результат становился более нестабилен, а также средняя точность экспериментов падала."
      ]
    },
    {
      "cell_type": "markdown",
      "metadata": {
        "id": "d3vcONKQ86mu"
      },
      "source": [
        "## 4. Бонусная часть."
      ]
    },
    {
      "cell_type": "markdown",
      "metadata": {
        "id": "Kuhxy7aW86mu"
      },
      "source": [
        "### 4.1 Реализация метода оптимизации (3 + 3 балла).\n",
        "Реализуйте сами метод оптимизации  для рассмотренной выше архитектуры. Вы можете выбрать произвольный метод от градиентного спуска до современных вариантов. Продемонстрируйте правильную работу метода оптимизации, сравните его работы с Adam.\n",
        "\n",
        "**Дополнительные баллы** вы получите, если метод будет уникален среди сдавших задание."
      ]
    },
    {
      "cell_type": "code",
      "execution_count": 577,
      "metadata": {
        "id": "GYMu0uF1p6o0"
      },
      "outputs": [],
      "source": [
        "class SotaOptimizer(Optimizer): # RMSprop\n",
        "    def __init__(self, params, lr=1e-3, alpha=0.99, \n",
        "                 eps=1e-08, weight_decay=0, momentum=0, centered=False):\n",
        "        defaults = dict(lr=lr, alpha=alpha, eps=eps, wd=weight_decay, mom=momentum)\n",
        "        self.centered = centered\n",
        "        super(SotaOptimizer, self).__init__(params, defaults)\n",
        "        self.state = dict() \n",
        "        for group in self.param_groups: \n",
        "            for p in group['params']: \n",
        "                self.state[p] = dict(v=torch.zeros_like(p.data, device=p.data.device),\n",
        "                                     b=torch.zeros_like(p.data, device=p.data.device),\n",
        "                                     g_ave=torch.zeros_like(p.data, device=p.data.device))\n",
        "\n",
        "    def __setstate__(self, state):\n",
        "        super(SotaOptimizer, self).__setstate__(state)\n",
        "\n",
        "    @torch.no_grad()\n",
        "    def step(self,):\n",
        "        for group in self.param_groups:\n",
        "            lr = group['lr']\n",
        "            a = group['alpha']\n",
        "            eps = group['eps']\n",
        "            wd = group['wd']\n",
        "            mom = group['mom']\n",
        "            for p in group['params']:\n",
        "\n",
        "                if p.grad is not None:\n",
        "                    g = p.grad\n",
        "                    if wd:\n",
        "                        g = g + wd * p.grad\n",
        "\n",
        "                    self.state[p]['v'] = a * self.state[p]['v'] + (1 - a) * g**2\n",
        "                    v_tmp = self.state[p]['v']\n",
        "                    if self.centered:\n",
        "                        self.state[p]['g_ave'] = a * self.state[p]['g_ave'] + (1 - a) * g\n",
        "                        v_tmp = v_tmp - self.state[p]['g_ave']**2\n",
        "\n",
        "                    if mom > 0:\n",
        "                        self.state[p]['b'] = mom * self.state[p]['b'] + g / (torch.sqrt(v_tmp) + eps)\n",
        "                        p.data.add_(-lr * self.state[p]['b'])\n",
        "                    else:\n",
        "                        p.data.add_(-lr * g / (torch.sqrt(v_tmp) + eps))"
      ]
    },
    {
      "cell_type": "code",
      "execution_count": 581,
      "metadata": {},
      "outputs": [],
      "source": [
        "device = torch.device(\"cuda\" if torch.cuda.is_available() else \"cpu\")\n",
        "\n",
        "model1 = Network()\n",
        "model1.to(device)\n",
        "optimizer1 = SotaOptimizer(model1.parameters())\n",
        "\n",
        "model2 = Network()\n",
        "model2.to(device)\n",
        "optimizer2 = Adam(model2.parameters())\n",
        "\n",
        "criterion = CrossEntropy()"
      ]
    },
    {
      "cell_type": "code",
      "execution_count": 582,
      "metadata": {},
      "outputs": [
        {
          "name": "stdout",
          "output_type": "stream",
          "text": [
            "Epoch - 0 : sota loss 0.9856346314395669, sota accuracy 0.6354777812957764, adam loss 0.8598458266207404, adam accuracy 0.6841462850570679\n",
            "Current learning rate: sota 0.001, adam 0.001\n",
            "Epoch - 1 : sota loss 0.661825232986194, sota accuracy 0.7557358145713806, adam loss 0.58430265859246, adam accuracy 0.7805115580558777\n",
            "Current learning rate: sota 0.001, adam 0.001\n",
            "Epoch - 2 : sota loss 0.5997031388252274, sota accuracy 0.7819496393203735, adam loss 0.5333709929035162, adam accuracy 0.8040323257446289\n",
            "Current learning rate: sota 0.001, adam 0.001\n",
            "Epoch - 3 : sota loss 0.5690819570886047, sota accuracy 0.7916444540023804, adam loss 0.5007398055433464, adam accuracy 0.8173363208770752\n",
            "Current learning rate: sota 0.001, adam 0.001\n",
            "Epoch - 4 : sota loss 0.544877291996596, sota accuracy 0.800378680229187, adam loss 0.4810275828152069, adam accuracy 0.8249489068984985\n",
            "Current learning rate: sota 0.001, adam 0.001\n",
            "Epoch - 5 : sota loss 0.5323873562599296, sota accuracy 0.8075248599052429, adam loss 0.4694833292889951, adam accuracy 0.8299074172973633\n",
            "Current learning rate: sota 0.001, adam 0.001\n",
            "Epoch - 6 : sota loss 0.5194520619251072, sota accuracy 0.8113728165626526, adam loss 0.4584236566001164, adam accuracy 0.8334832787513733\n",
            "Current learning rate: sota 0.001, adam 0.001\n",
            "Epoch - 7 : sota loss 0.5110124887815163, sota accuracy 0.8160369992256165, adam loss 0.4514164632317354, adam accuracy 0.837631106376648\n",
            "Current learning rate: sota 0.001, adam 0.001\n",
            "Epoch - 8 : sota loss 0.5055156268798975, sota accuracy 0.8156261444091797, adam loss 0.43927960310663494, adam accuracy 0.8365649580955505\n",
            "Current learning rate: sota 0.001, adam 0.001\n",
            "Epoch - 9 : sota loss 0.4995159125531406, sota accuracy 0.8191686868667603, adam loss 0.43915612922548486, adam accuracy 0.8410903215408325\n",
            "Current learning rate: sota 0.001, adam 0.001\n"
          ]
        }
      ],
      "source": [
        "for epoch in range(10):\n",
        "    loss1, acc1 = perform_epoch(model1, train_dataloader, criterion,\n",
        "                                optimizer=optimizer1, device=device)\n",
        "    loss2, acc2 = perform_epoch(model2, train_dataloader, criterion,\n",
        "                                optimizer=optimizer2, device=device)\n",
        "    \n",
        "    print(f\"Epoch - {epoch} : sota loss {loss1}, sota accuracy {acc1}, adam loss {loss2}, adam accuracy {acc2}\")\n",
        "    print(f\"Current learning rate: sota {optimizer1.param_groups[0]['lr']}, adam {optimizer2.param_groups[0]['lr']}\")"
      ]
    },
    {
      "cell_type": "code",
      "execution_count": 590,
      "metadata": {},
      "outputs": [
        {
          "name": "stdout",
          "output_type": "stream",
          "text": [
            "Test: sota loss 0.4372, sota accuracy 0.8381,       adam loss 0.4307, adam accuracy 0.8418\n"
          ]
        }
      ],
      "source": [
        "loss1, acc1 = perform_epoch(model1, test_dataloader, criterion,\n",
        "                                optimizer=None, device=device)\n",
        "loss2, acc2 = perform_epoch(model2, test_dataloader, criterion,\n",
        "                                optimizer=None, device=device)\n",
        "print(f\"Test: sota loss {round(loss1, 4)}, sota accuracy {round(acc1.item(), 4)}, \\\n",
        "      adam loss {round(loss2, 4)}, adam accuracy {round(acc2.item(), 4)}\")"
      ]
    },
    {
      "cell_type": "markdown",
      "metadata": {},
      "source": [
        "#### Мой оптимизатор проиграл Адаму в честной битве"
      ]
    },
    {
      "cell_type": "markdown",
      "metadata": {
        "id": "d3aabYCykXL7"
      },
      "source": [
        "### 4.2 Реализация современной функции активации (2 + 2 балла).\n",
        "Реализуйте одну из активаций, предложенных на лекции или в статье. Например, `Hardswish`. Сравните сеть с вашей активацией и с `ReLU`.\n",
        "\n",
        "**Дополнительные баллы** вы получите, если функция будет уникальна среди сдавших задание."
      ]
    },
    {
      "cell_type": "code",
      "execution_count": 637,
      "metadata": {},
      "outputs": [],
      "source": [
        "class RReLUFunction(Function):  # https://arxiv.org/pdf/1505.00853\n",
        "    @staticmethod\n",
        "    def forward(ctx, inp, a):\n",
        "        output = inp.clone().detach()\n",
        "        a_copy = a.clone().detach()\n",
        "        a_copy[output > 0] = 1\n",
        "        output *= a\n",
        "        ctx.save_for_backward(a)\n",
        "        return output\n",
        "\n",
        "    @staticmethod\n",
        "    def backward(ctx, grad_output):\n",
        "        a, = ctx.saved_tensors\n",
        "        return grad_output * a, None\n",
        "\n",
        "class RReLU(nn.Module):\n",
        "    def __init__(self, lower=0.125, upper=0.3333333333333333):\n",
        "        super().__init__()\n",
        "        self.rrelu = RReLUFunction.apply\n",
        "        self.lower = lower\n",
        "        self.upper = upper\n",
        "        self.mid = (lower + upper) / 2\n",
        "\n",
        "    def forward(self, inp):\n",
        "        if self.training:\n",
        "            a = (self.upper - self.lower) * torch.rand(inp.shape, device=inp.device) + self.lower\n",
        "            return self.rrelu(inp, a)\n",
        "        else:\n",
        "            a = torch.ones_like(inp, device=inp.device) * self.mid\n",
        "            return self.rrelu(inp, a)"
      ]
    },
    {
      "cell_type": "code",
      "execution_count": 638,
      "metadata": {},
      "outputs": [],
      "source": [
        "x = torch.randn(3, 5, requires_grad=True, dtype=torch.float64)\n",
        "lower=0.125\n",
        "upper=0.3333333333333333\n",
        "rrelu = RReLUFunction.apply\n",
        "\n",
        "assert gradcheck(rrelu, (x, (lower - upper) * torch.rand(x.shape) + lower))"
      ]
    },
    {
      "cell_type": "code",
      "execution_count": 639,
      "metadata": {},
      "outputs": [],
      "source": [
        "class MyNetwork(nn.Module):\n",
        "    def __init__(self, input_size=28*28, hidden_layers_size=32, num_layers=5,\n",
        "                 num_classes=10):\n",
        "        super().__init__()\n",
        "        self.input_layer = Linear(input_size, hidden_layers_size)\n",
        "        self.hidden_layers = nn.Sequential(*[Linear(hidden_layers_size, hidden_layers_size) for _ in range(num_layers-2)])\n",
        "        self.output_layer = Linear(hidden_layers_size, num_classes)\n",
        "\n",
        "        self.activation = RReLU()\n",
        "        self.dropout = Dropout(p=0.1)\n",
        "        self.logsoftmax = LogSoftmax()\n",
        "        self.flatten = nn.Flatten()\n",
        "\n",
        "    def forward(self, inp):\n",
        "        out = self.activation(self.input_layer(self.flatten(inp)))\n",
        "        for hidden_layer in self.hidden_layers:\n",
        "            out = self.activation(hidden_layer(self.dropout(out)))\n",
        "        out = self.output_layer(self.dropout(out))\n",
        "        return self.logsoftmax(out)\n",
        "\n",
        "\n",
        "    def predict(self, inp):\n",
        "        out = self.activation(self.input_layer(self.flatten(inp)))\n",
        "        for hidden_layer in self.hidden_layers:\n",
        "            out = self.activation(hidden_layer(self.dropout(out)))\n",
        "        out = self.output_layer(self.dropout(out))\n",
        "        return out.argmax(1)"
      ]
    },
    {
      "cell_type": "code",
      "execution_count": 640,
      "metadata": {},
      "outputs": [],
      "source": [
        "device = torch.device(\"cuda\" if torch.cuda.is_available() else \"cpu\")\n",
        "\n",
        "model1 = Network()\n",
        "model1.to(device)\n",
        "optimizer1 = Adam(model1.parameters())\n",
        "\n",
        "model2 = MyNetwork()\n",
        "model2.to(device)\n",
        "optimizer2 = Adam(model2.parameters())\n",
        "\n",
        "criterion = CrossEntropy()"
      ]
    },
    {
      "cell_type": "code",
      "execution_count": 641,
      "metadata": {},
      "outputs": [
        {
          "name": "stdout",
          "output_type": "stream",
          "text": [
            "Epoch - 0 : relu loss 0.8755841122380198, relu accuracy 0.6761338710784912, my loss 0.9038723211552797, my accuracy 0.6658115983009338\n",
            "Epoch - 1 : relu loss 0.6015119056966005, relu accuracy 0.7881630063056946, my loss 0.6104384110426344, my accuracy 0.7901231050491333\n",
            "Epoch - 2 : relu loss 0.5406774023829747, relu accuracy 0.8091129660606384, my loss 0.5697002327010068, my accuracy 0.8057924509048462\n",
            "Epoch - 3 : relu loss 0.510132978211588, relu accuracy 0.8208011388778687, my loss 0.5484947809405418, my accuracy 0.812583327293396\n",
            "Epoch - 4 : relu loss 0.4873068501700216, relu accuracy 0.8274142742156982, my loss 0.5328954153859031, my accuracy 0.8173141479492188\n",
            "Epoch - 5 : relu loss 0.4826807171614694, relu accuracy 0.8302294015884399, my loss 0.5275098125436413, my accuracy 0.8215673565864563\n",
            "Epoch - 6 : relu loss 0.47031465913059867, relu accuracy 0.8333000540733337, my loss 0.5165274018671975, my accuracy 0.8256152272224426\n",
            "Epoch - 7 : relu loss 0.46084566728901, relu accuracy 0.8370535969734192, my loss 0.5099826990160098, my accuracy 0.8267313241958618\n",
            "Epoch - 8 : relu loss 0.45570315106082826, relu accuracy 0.8385527729988098, my loss 0.5030714436126417, my accuracy 0.8298685550689697\n",
            "Epoch - 9 : relu loss 0.44742112462200334, relu accuracy 0.8404573202133179, my loss 0.5005527500277643, my accuracy 0.8305292725563049\n"
          ]
        }
      ],
      "source": [
        "for epoch in range(10):\n",
        "    loss1, acc1 = perform_epoch(model1, train_dataloader, criterion,\n",
        "                                optimizer=optimizer1, device=device)\n",
        "    loss2, acc2 = perform_epoch(model2, train_dataloader, criterion,\n",
        "                                optimizer=optimizer2, device=device)\n",
        "    \n",
        "    print(f\"Epoch - {epoch} : relu loss {loss1}, relu accuracy {acc1}, my loss {loss2}, my accuracy {acc2}\")"
      ]
    },
    {
      "cell_type": "code",
      "execution_count": 642,
      "metadata": {},
      "outputs": [
        {
          "name": "stdout",
          "output_type": "stream",
          "text": [
            "Test: relu loss 0.4346, relu accuracy 0.8467, my loss 0.4856, my accuracy 0.8317\n"
          ]
        }
      ],
      "source": [
        "loss1, acc1 = perform_epoch(model1, test_dataloader, criterion,\n",
        "                                optimizer=None, device=device)\n",
        "loss2, acc2 = perform_epoch(model2, test_dataloader, criterion,\n",
        "                                optimizer=None, device=device)\n",
        "print(f\"Test: relu loss {round(loss1, 4)}, relu accuracy {round(acc1.item(), 4)},\", end=\" \")\n",
        "print(f\"my loss {round(loss2, 4)}, my accuracy {round(acc2.item(), 4)}\")"
      ]
    },
    {
      "cell_type": "markdown",
      "metadata": {},
      "source": [
        "#### RRELU не дала никаких улучшений, качество чуть ухудшилось."
      ]
    }
  ],
  "metadata": {
    "colab": {
      "provenance": []
    },
    "kernelspec": {
      "display_name": "Python 3",
      "language": "python",
      "name": "python3"
    },
    "language_info": {
      "codemirror_mode": {
        "name": "ipython",
        "version": 3
      },
      "file_extension": ".py",
      "mimetype": "text/x-python",
      "name": "python",
      "nbconvert_exporter": "python",
      "pygments_lexer": "ipython3",
      "version": "3.11.10"
    }
  },
  "nbformat": 4,
  "nbformat_minor": 0
}
