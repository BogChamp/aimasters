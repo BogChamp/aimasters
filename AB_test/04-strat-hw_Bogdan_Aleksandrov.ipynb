{
 "cells": [
  {
   "cell_type": "markdown",
   "id": "fdca6054",
   "metadata": {},
   "source": [
    "## Задача. Разбиение на страты\n",
    "\n",
    "Есть набор признаков. Используя эти признаки, нужно разбить объекты на страты так, чтобы дисперсия стратифицированного среднего была минимальна и доля каждой страты была не менее 5% от всех данных.\n",
    "\n",
    "Разбиение должно быть простым, без использования ML. Можно использовать различные логические операции типа `>, <, >=, <=, ==, |, &` и преобразования `+, -, *, /`. Например, условие для одной из страт может быть таким `(x1 == 10) & (x3 + x5 < x6)`.\n",
    "\n",
    "Данные разбиты на две части случайным образом. Первая часть будет предоставлена для исследования. Решение будет проверяться на второй части данных. Значения в столбцах `x1, ..., x10` - признаки, которые можно использовать для вычисления страт. Значения в столбце `y` - измерения, по которым будет вычисляться целевая метрика эксперимента.\n",
    "\n",
    "Для получения 10 баллов достаточно получить дисперсию меньше 47000. Значения дисперсии больше 47000 штрафуются с шагом 400. Если минимальная доля страты меньше 0.05, то накладывается штраф с шагом 0.001. Подробнее функцию вычисления оценки смотрите в ячейке `#тесты`"
   ]
  },
  {
   "cell_type": "code",
   "execution_count": 233,
   "id": "369c36e3",
   "metadata": {},
   "outputs": [],
   "source": [
    "import pandas as pd\n",
    "import numpy as np\n",
    "\n",
    "\n",
    "def get_strats(df_features):\n",
    "    \"\"\"Возвращает страты объектов.\n",
    "\n",
    "    :param df_features (pd.DataFrame): таблица с признаками x1,...,x10\n",
    "    :return (list | np.array | pd.Series): список страт объектов размера len(df).\n",
    "    \"\"\"\n",
    "    df_features['x11'] = df_features['x2'] + df_features['x7']\n",
    "    df_features['x12'] = np.abs(df_features['x2'] - 30)\n",
    "    res = np.zeros(len(df_features))\n",
    "    for i in range(7):\n",
    "        res[(df_features['x12'] == i).values] = i\n",
    "    res[(df_features['x12'] < 9) * (df_features['x12'] >= 7)] = 7\n",
    "    res[df_features['x12'] >= 9] = 8\n",
    "    return res.astype(int)"
   ]
  },
  {
   "cell_type": "code",
   "execution_count": 234,
   "id": "8ae46159",
   "metadata": {},
   "outputs": [
    {
     "name": "stdout",
     "output_type": "stream",
     "text": [
      "var=47862, min_part=6.29%\n",
      "score = max(7-0, 0) = 7\n"
     ]
    }
   ],
   "source": [
    "# тесты\n",
    "df = pd.read_csv('04-strat-hw-data-public.csv')\n",
    "df_features = df.drop('y', axis=1)\n",
    "df['strat'] = get_strats(df_features)\n",
    "\n",
    "def calc_strat_params(df):\n",
    "    \"\"\"Вычисляет стратифицированную дисперсию и минимальную долю страт.\"\"\"\n",
    "    strat_vars = df.groupby('strat')['y'].var()\n",
    "    weights = df['strat'].value_counts(normalize=True)\n",
    "    stratified_var = (strat_vars * weights).sum()\n",
    "    min_part = df['strat'].value_counts(normalize=True).min()\n",
    "    return stratified_var, min_part\n",
    "\n",
    "stratified_var, min_part = calc_strat_params(df)\n",
    "print(f'var={stratified_var:0.0f}, min_part={min_part*100:0.2f}%')\n",
    "\n",
    "score_ = int(np.clip(10 - np.ceil((stratified_var - 47000) / 400), 0, 10))\n",
    "penalty = int(np.clip(np.ceil((0.05 - min_part) * 1000), 0, 10))\n",
    "score = max(score_ - penalty, 0)\n",
    "print(f'score = max({score_}-{penalty}, 0) = {score}')"
   ]
  }
 ],
 "metadata": {
  "kernelspec": {
   "display_name": "Python 3",
   "language": "python",
   "name": "python3"
  },
  "language_info": {
   "codemirror_mode": {
    "name": "ipython",
    "version": 3
   },
   "file_extension": ".py",
   "mimetype": "text/x-python",
   "name": "python",
   "nbconvert_exporter": "python",
   "pygments_lexer": "ipython3",
   "version": "3.11.11"
  }
 },
 "nbformat": 4,
 "nbformat_minor": 5
}
