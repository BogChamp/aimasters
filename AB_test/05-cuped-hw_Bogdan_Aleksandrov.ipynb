{
 "cells": [
  {
   "cell_type": "markdown",
   "id": "c7b98c1d",
   "metadata": {},
   "source": [
    "# Задание\n",
    "\n",
    "Необходимо написать функцию оценки экспериментов.\n",
    "Есть данные о пользователях и их покупках за 5 недель. На шестой неделе будет проводиться ряд экспериментов, целью которых было увеличение средней выручки с клиента. Задача функции - определять внедрять изменение или нет.\n",
    "\n",
    "Информация про эксперименты:\n",
    "- эксперименты считаем независимыми друг от друга;\n",
    "- эксперименты проводились на шестой неделе, с 36 по 42 день включительно.\n",
    "- размеры групп порядка 100-120;\n",
    "- при дизайне экспериментов предполагалось, что будет применяться двусторонний тест Стьюдента с уровнем значимости 0.05.\n",
    "- группы для некоторых экспериментов могли выбираться не из всей популяции, а из некоторого подмножества. Например, новые клиенты, которые не совершали покупок ранее.\n",
    "\n",
    "Всего нужно будет оценить 1000 экспериментов. Оценка будет вычисляться по количеству неверно оценённых экспериментов согласно таблице:\n",
    "\n",
    "| Количество ошибок | Оценка |\n",
    "|------|-----|\n",
    "| <=115 | 10 |\n",
    "| 116-130 | 9 |\n",
    "| 131-145 | 8 |\n",
    "| 146-160 | 7 |\n",
    "| 161-175 | 6 |\n",
    "| 176-190 | 5 |\n",
    "| 191-205 | 4 |\n",
    "| 206-220 | 3 |\n",
    "| 221-235 | 2 |\n",
    "| 236-250 | 1 |\n",
    "| >250 | 0 |\n",
    "\n",
    "Дан набор исторических данных `df_sales_history.csv`. Для самопроверки предоставлена подвыборка из 200 экспериментов `experiments_sample.json` и данные о покупках для пользователей этих экспериментов во время эксперимента `df_sales_exp_sample.csv`."
   ]
  },
  {
   "cell_type": "code",
   "execution_count": null,
   "id": "a906c2b8",
   "metadata": {},
   "outputs": [],
   "source": [
    "import os\n",
    "import json\n",
    "\n",
    "import numpy as np\n",
    "import pandas as pd\n",
    "from scipy import stats\n",
    "\n",
    "\n",
    "ALPHA = 0.05\n",
    "\n",
    "# получение данных о покупках\n",
    "df_sales_history = pd.read_csv('df_sales_history.csv')\n",
    "df_sales_exp = pd.read_csv('df_sales_exp_sample.csv')\n",
    "\n",
    "\n",
    "# тут можно предобработать данные df_sales_history и df_sales_exp,\n",
    "# создать переменные и использовать их внутри функции `check_test`\n",
    "\n",
    "exp_mean_cost = dict(df_sales_exp.groupby(['user_id', 'day']).sum().groupby('user_id')['cost'].mean())\n",
    "history_mean_cost = dict(df_sales_history.groupby(['user_id', 'day']).sum().groupby('user_id')['cost'].mean())\n",
    "history_channel_mean = dict(df_sales_history.groupby(['user_id', 'day']).agg({'cost': 'sum', \n",
    "                                                                         'channel': lambda x: np.bincount(x).argmax()}).groupby('channel')['cost'].mean())\n",
    "user_to_channel = dict(df_sales_exp.groupby('user_id').agg({'channel': lambda x: np.bincount(x).argmax()})['channel'])\n",
    "\n",
    "def check_test(a, b):\n",
    "    \"\"\"Проверяет гипотезу.\n",
    "    \n",
    "    :param a: список id пользователей контрольной группы\n",
    "    :param b: список id пользователей экспериментальной группы\n",
    "    :return: 1 - внедряем изменение, 0 - иначе.\n",
    "    \"\"\"\n",
    "    a_stats = []\n",
    "    b_stats = []\n",
    "    a_history_stats = []\n",
    "    b_history_stats = []\n",
    "    for user_id in a:\n",
    "        history_stat = 0\n",
    "        if user_id in exp_mean_cost:\n",
    "            a_stats.append(exp_mean_cost[user_id])\n",
    "            history_stat = history_channel_mean[user_to_channel[user_id]]\n",
    "        else:\n",
    "            a_stats.append(0)\n",
    "        \n",
    "        if user_id in history_mean_cost:\n",
    "            a_history_stats.append(history_mean_cost[user_id])\n",
    "        else:\n",
    "            a_history_stats.append(history_stat)\n",
    "\n",
    "    for user_id in b:\n",
    "        history_stat = 0\n",
    "        if user_id in exp_mean_cost:\n",
    "            b_stats.append(exp_mean_cost[user_id])\n",
    "            history_stat = history_channel_mean[user_to_channel[user_id]]\n",
    "        else:\n",
    "            b_stats.append(0)\n",
    "        \n",
    "        if user_id in history_mean_cost:\n",
    "            b_history_stats.append(history_mean_cost[user_id])\n",
    "        else:\n",
    "            b_history_stats.append(history_stat)\n",
    "\n",
    "    #theta = np.corrcoef(a_stats+b_stats, a_history_stats+b_history_stats)[0, 1]\n",
    "    theta = np.cov(a_stats+b_stats, a_history_stats+b_history_stats)[0, 1]\n",
    "    theta /= np.var(a_history_stats+b_history_stats)\n",
    "    if np.isnan(theta):\n",
    "        pvalue = stats.ttest_ind(a_stats, b_stats, equal_var=False).pvalue\n",
    "    else:\n",
    "        a_stats = np.asarray(a_stats) - theta * np.asarray(a_history_stats)\n",
    "        b_stats = np.asarray(b_stats) - theta * np.asarray(b_history_stats)\n",
    "        pvalue = stats.ttest_ind(a_stats, b_stats, equal_var=False).pvalue\n",
    "    return int(pvalue < ALPHA)\n"
   ]
  },
  {
   "cell_type": "code",
   "execution_count": 48,
   "id": "7ad20be5",
   "metadata": {},
   "outputs": [
    {
     "name": "stdout",
     "output_type": "stream",
     "text": [
      "Количество ошибок: 30\n",
      "Доля ошибок: 0.15\n"
     ]
    }
   ],
   "source": [
    "# тесты\n",
    "with open('experiments_sample.json') as f:\n",
    "    tests = json.load(f)\n",
    "\n",
    "errors = []\n",
    "for has_positive_effect, a, b in tests:\n",
    "    res = check_test(a, b)\n",
    "    assert res in [0, 1]\n",
    "    errors.append(int(res != has_positive_effect))\n",
    "print(f'Количество ошибок: {np.sum(errors)}\\nДоля ошибок: {np.mean(errors)}')"
   ]
  },
  {
   "cell_type": "code",
   "execution_count": 19,
   "id": "558d05a8",
   "metadata": {},
   "outputs": [
    {
     "data": {
      "image/png": "[encoded data removed]",
      "text/plain": [
       "<Figure size 640x480 with 1 Axes>"
      ]
     },
     "metadata": {},
     "output_type": "display_data"
    }
   ],
   "source": [
    "import matplotlib.pyplot as plt\n",
    "plt.hist(df_sales_exp['cost'], bins=50, label='exp', density=True, histtype='step')\n",
    "plt.hist(df_sales_history['cost'], bins=50, label='hist', density=True, histtype='step')\n",
    "plt.legend()\n",
    "plt.show()"
   ]
  },
  {
   "cell_type": "code",
   "execution_count": 26,
   "id": "b2f1a3e9",
   "metadata": {},
   "outputs": [
    {
     "data": {
      "text/plain": [
       "array([968468, 915126, 419529, ..., 704019, 347561, 566809])"
      ]
     },
     "execution_count": 26,
     "metadata": {},
     "output_type": "execute_result"
    }
   ],
   "source": [
    "df_sales_exp[df_sales_exp['cost'] < 1000]['user_id'].unique()"
   ]
  },
  {
   "cell_type": "code",
   "execution_count": 34,
   "id": "328c6bf7",
   "metadata": {},
   "outputs": [
    {
     "data": {
      "text/plain": [
       "(array([ 993, 1283]),)"
      ]
     },
     "execution_count": 34,
     "metadata": {},
     "output_type": "execute_result"
    }
   ],
   "source": [
    "np.where(df_sales_exp[df_sales_exp['user_id'].isin(df_sales_exp[df_sales_exp['cost'] < 1000]['user_id'].unique())].groupby(['user_id', 'day']).sum()['cost'] < 1000)"
   ]
  },
  {
   "cell_type": "code",
   "execution_count": 44,
   "id": "42cb3614",
   "metadata": {},
   "outputs": [
    {
     "data": {
      "text/plain": [
       "user_id  day\n",
       "371402   36     940.0\n",
       "Name: cost, dtype: float64"
      ]
     },
     "execution_count": 44,
     "metadata": {},
     "output_type": "execute_result"
    }
   ],
   "source": [
    "(df_sales_exp[df_sales_exp['user_id'].isin(df_sales_exp[df_sales_exp['cost'] < 1000]['user_id'].unique())].groupby(['user_id', 'day']).sum()['cost'][df_sales_exp[df_sales_exp['user_id'].isin(df_sales_exp[df_sales_exp['cost'] < 1000]['user_id'].unique())].groupby(['user_id', 'day']).sum()['cost'] == 940])"
   ]
  },
  {
   "cell_type": "code",
   "execution_count": 36,
   "id": "144ef69f",
   "metadata": {},
   "outputs": [
    {
     "data": {
      "text/plain": [
       "user_id    288304.0\n",
       "day            37.0\n",
       "cost          280.0\n",
       "channel         1.0\n",
       "Name: 4427, dtype: float64"
      ]
     },
     "execution_count": 36,
     "metadata": {},
     "output_type": "execute_result"
    }
   ],
   "source": [
    "df_sales_exp[df_sales_exp['user_id'].isin(df_sales_exp[df_sales_exp['cost'] < 1000]['user_id'].unique())].iloc[993]"
   ]
  },
  {
   "cell_type": "code",
   "execution_count": 45,
   "id": "9be4e263",
   "metadata": {},
   "outputs": [
    {
     "data": {
      "text/html": [
       "<div>\n",
       "<style scoped>\n",
       "    .dataframe tbody tr th:only-of-type {\n",
       "        vertical-align: middle;\n",
       "    }\n",
       "\n",
       "    .dataframe tbody tr th {\n",
       "        vertical-align: top;\n",
       "    }\n",
       "\n",
       "    .dataframe thead th {\n",
       "        text-align: right;\n",
       "    }\n",
       "</style>\n",
       "<table border=\"1\" class=\"dataframe\">\n",
       "  <thead>\n",
       "    <tr style=\"text-align: right;\">\n",
       "      <th></th>\n",
       "      <th>user_id</th>\n",
       "      <th>day</th>\n",
       "      <th>cost</th>\n",
       "      <th>channel</th>\n",
       "    </tr>\n",
       "  </thead>\n",
       "  <tbody>\n",
       "    <tr>\n",
       "      <th>1951</th>\n",
       "      <td>371402</td>\n",
       "      <td>36</td>\n",
       "      <td>940.0</td>\n",
       "      <td>2</td>\n",
       "    </tr>\n",
       "    <tr>\n",
       "      <th>23021</th>\n",
       "      <td>371402</td>\n",
       "      <td>41</td>\n",
       "      <td>2100.0</td>\n",
       "      <td>2</td>\n",
       "    </tr>\n",
       "    <tr>\n",
       "      <th>25302</th>\n",
       "      <td>371402</td>\n",
       "      <td>41</td>\n",
       "      <td>60.0</td>\n",
       "      <td>2</td>\n",
       "    </tr>\n",
       "  </tbody>\n",
       "</table>\n",
       "</div>"
      ],
      "text/plain": [
       "       user_id  day    cost  channel\n",
       "1951    371402   36   940.0        2\n",
       "23021   371402   41  2100.0        2\n",
       "25302   371402   41    60.0        2"
      ]
     },
     "execution_count": 45,
     "metadata": {},
     "output_type": "execute_result"
    }
   ],
   "source": [
    "df_sales_exp[df_sales_exp['user_id'] == 371402]"
   ]
  },
  {
   "cell_type": "code",
   "execution_count": 46,
   "id": "c881cab4",
   "metadata": {},
   "outputs": [
    {
     "data": {
      "text/html": [
       "<div>\n",
       "<style scoped>\n",
       "    .dataframe tbody tr th:only-of-type {\n",
       "        vertical-align: middle;\n",
       "    }\n",
       "\n",
       "    .dataframe tbody tr th {\n",
       "        vertical-align: top;\n",
       "    }\n",
       "\n",
       "    .dataframe thead th {\n",
       "        text-align: right;\n",
       "    }\n",
       "</style>\n",
       "<table border=\"1\" class=\"dataframe\">\n",
       "  <thead>\n",
       "    <tr style=\"text-align: right;\">\n",
       "      <th></th>\n",
       "      <th>user_id</th>\n",
       "      <th>day</th>\n",
       "      <th>cost</th>\n",
       "      <th>channel</th>\n",
       "    </tr>\n",
       "  </thead>\n",
       "  <tbody>\n",
       "    <tr>\n",
       "      <th>0</th>\n",
       "      <td>643135</td>\n",
       "      <td>36</td>\n",
       "      <td>3150.000000</td>\n",
       "      <td>3</td>\n",
       "    </tr>\n",
       "    <tr>\n",
       "      <th>1</th>\n",
       "      <td>885230</td>\n",
       "      <td>36</td>\n",
       "      <td>1760.000000</td>\n",
       "      <td>0</td>\n",
       "    </tr>\n",
       "    <tr>\n",
       "      <th>2</th>\n",
       "      <td>255918</td>\n",
       "      <td>36</td>\n",
       "      <td>2830.000000</td>\n",
       "      <td>2</td>\n",
       "    </tr>\n",
       "    <tr>\n",
       "      <th>3</th>\n",
       "      <td>575245</td>\n",
       "      <td>36</td>\n",
       "      <td>3150.000000</td>\n",
       "      <td>1</td>\n",
       "    </tr>\n",
       "    <tr>\n",
       "      <th>4</th>\n",
       "      <td>470378</td>\n",
       "      <td>36</td>\n",
       "      <td>2200.000000</td>\n",
       "      <td>0</td>\n",
       "    </tr>\n",
       "    <tr>\n",
       "      <th>...</th>\n",
       "      <td>...</td>\n",
       "      <td>...</td>\n",
       "      <td>...</td>\n",
       "      <td>...</td>\n",
       "    </tr>\n",
       "    <tr>\n",
       "      <th>29980</th>\n",
       "      <td>762412</td>\n",
       "      <td>42</td>\n",
       "      <td>2740.418460</td>\n",
       "      <td>0</td>\n",
       "    </tr>\n",
       "    <tr>\n",
       "      <th>29981</th>\n",
       "      <td>800019</td>\n",
       "      <td>42</td>\n",
       "      <td>4255.862429</td>\n",
       "      <td>1</td>\n",
       "    </tr>\n",
       "    <tr>\n",
       "      <th>29982</th>\n",
       "      <td>323713</td>\n",
       "      <td>42</td>\n",
       "      <td>3730.000000</td>\n",
       "      <td>1</td>\n",
       "    </tr>\n",
       "    <tr>\n",
       "      <th>29983</th>\n",
       "      <td>143090</td>\n",
       "      <td>42</td>\n",
       "      <td>2710.000000</td>\n",
       "      <td>0</td>\n",
       "    </tr>\n",
       "    <tr>\n",
       "      <th>29984</th>\n",
       "      <td>114113</td>\n",
       "      <td>42</td>\n",
       "      <td>3904.949545</td>\n",
       "      <td>0</td>\n",
       "    </tr>\n",
       "  </tbody>\n",
       "</table>\n",
       "<p>27491 rows × 4 columns</p>\n",
       "</div>"
      ],
      "text/plain": [
       "       user_id  day         cost  channel\n",
       "0       643135   36  3150.000000        3\n",
       "1       885230   36  1760.000000        0\n",
       "2       255918   36  2830.000000        2\n",
       "3       575245   36  3150.000000        1\n",
       "4       470378   36  2200.000000        0\n",
       "...        ...  ...          ...      ...\n",
       "29980   762412   42  2740.418460        0\n",
       "29981   800019   42  4255.862429        1\n",
       "29982   323713   42  3730.000000        1\n",
       "29983   143090   42  2710.000000        0\n",
       "29984   114113   42  3904.949545        0\n",
       "\n",
       "[27491 rows x 4 columns]"
      ]
     },
     "execution_count": 46,
     "metadata": {},
     "output_type": "execute_result"
    }
   ],
   "source": [
    "df_sales_exp[df_sales_exp['cost'] >= 1000]"
   ]
  }
 ],
 "metadata": {
  "kernelspec": {
   "display_name": "Python 3",
   "language": "python",
   "name": "python3"
  },
  "language_info": {
   "codemirror_mode": {
    "name": "ipython",
    "version": 3
   },
   "file_extension": ".py",
   "mimetype": "text/x-python",
   "name": "python",
   "nbconvert_exporter": "python",
   "pygments_lexer": "ipython3",
   "version": "3.11.10"
  }
 },
 "nbformat": 4,
 "nbformat_minor": 5
}
